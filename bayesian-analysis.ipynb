{
 "cells": [
  {
   "cell_type": "code",
   "execution_count": 91,
   "metadata": {},
   "outputs": [],
   "source": [
    "%matplotlib inline\n",
    "import pandas as pd\n",
    "import glob\n",
    "import datetime as dt\n",
    "import numpy as np\n",
    "import theano.tensor as tt\n",
    "import pymc3 as pm\n",
    "import warnings\n",
    "warnings.filterwarnings('ignore')\n",
    "import seaborn as sns\n",
    "import matplotlib.pyplot as plt\n",
    "from sklearn import linear_model\n",
    "sns.set_context('notebook')"
   ]
  },
  {
   "cell_type": "code",
   "execution_count": 3,
   "metadata": {
    "collapsed": true
   },
   "outputs": [],
   "source": [
    "data_folder = \"data\"\n",
    "csvDataFiles = sorted(glob.glob(data_folder + \"/*.csv\"))\n",
    "dataFiles = []\n",
    "for dataFile in csvDataFiles:\n",
    "    df = pd.read_csv(dataFile)\n",
    "    dataFiles.append(df)"
   ]
  },
  {
   "cell_type": "code",
   "execution_count": 4,
   "metadata": {},
   "outputs": [
    {
     "name": "stdout",
     "output_type": "stream",
     "text": [
      "30\n"
     ]
    }
   ],
   "source": [
    "#The number of stocks we have in our data folder\n",
    "print(len(dataFiles))"
   ]
  },
  {
   "cell_type": "code",
   "execution_count": 5,
   "metadata": {},
   "outputs": [
    {
     "data": {
      "text/html": [
       "<div>\n",
       "<style>\n",
       "    .dataframe thead tr:only-child th {\n",
       "        text-align: right;\n",
       "    }\n",
       "\n",
       "    .dataframe thead th {\n",
       "        text-align: left;\n",
       "    }\n",
       "\n",
       "    .dataframe tbody tr th {\n",
       "        vertical-align: top;\n",
       "    }\n",
       "</style>\n",
       "<table border=\"1\" class=\"dataframe\">\n",
       "  <thead>\n",
       "    <tr style=\"text-align: right;\">\n",
       "      <th></th>\n",
       "      <th>Date</th>\n",
       "      <th>Open</th>\n",
       "      <th>High</th>\n",
       "      <th>Low</th>\n",
       "      <th>Close</th>\n",
       "      <th>Adj Close</th>\n",
       "      <th>Volume</th>\n",
       "    </tr>\n",
       "  </thead>\n",
       "  <tbody>\n",
       "    <tr>\n",
       "      <th>0</th>\n",
       "      <td>10/2/2017</td>\n",
       "      <td>154.259995</td>\n",
       "      <td>154.449997</td>\n",
       "      <td>152.720001</td>\n",
       "      <td>153.809998</td>\n",
       "      <td>152.636734</td>\n",
       "      <td>18698800</td>\n",
       "    </tr>\n",
       "    <tr>\n",
       "      <th>1</th>\n",
       "      <td>10/3/2017</td>\n",
       "      <td>154.009995</td>\n",
       "      <td>155.089996</td>\n",
       "      <td>153.910004</td>\n",
       "      <td>154.479996</td>\n",
       "      <td>153.301620</td>\n",
       "      <td>16230300</td>\n",
       "    </tr>\n",
       "    <tr>\n",
       "      <th>2</th>\n",
       "      <td>10/4/2017</td>\n",
       "      <td>153.630005</td>\n",
       "      <td>153.860001</td>\n",
       "      <td>152.460007</td>\n",
       "      <td>153.479996</td>\n",
       "      <td>152.309250</td>\n",
       "      <td>20163800</td>\n",
       "    </tr>\n",
       "    <tr>\n",
       "      <th>3</th>\n",
       "      <td>10/5/2017</td>\n",
       "      <td>154.179993</td>\n",
       "      <td>155.440002</td>\n",
       "      <td>154.050003</td>\n",
       "      <td>155.389999</td>\n",
       "      <td>154.204681</td>\n",
       "      <td>21283800</td>\n",
       "    </tr>\n",
       "    <tr>\n",
       "      <th>4</th>\n",
       "      <td>10/6/2017</td>\n",
       "      <td>154.970001</td>\n",
       "      <td>155.490005</td>\n",
       "      <td>154.559998</td>\n",
       "      <td>155.300003</td>\n",
       "      <td>154.115372</td>\n",
       "      <td>17407600</td>\n",
       "    </tr>\n",
       "  </tbody>\n",
       "</table>\n",
       "</div>"
      ],
      "text/plain": [
       "        Date        Open        High         Low       Close   Adj Close  \\\n",
       "0  10/2/2017  154.259995  154.449997  152.720001  153.809998  152.636734   \n",
       "1  10/3/2017  154.009995  155.089996  153.910004  154.479996  153.301620   \n",
       "2  10/4/2017  153.630005  153.860001  152.460007  153.479996  152.309250   \n",
       "3  10/5/2017  154.179993  155.440002  154.050003  155.389999  154.204681   \n",
       "4  10/6/2017  154.970001  155.490005  154.559998  155.300003  154.115372   \n",
       "\n",
       "     Volume  \n",
       "0  18698800  \n",
       "1  16230300  \n",
       "2  20163800  \n",
       "3  21283800  \n",
       "4  17407600  "
      ]
     },
     "execution_count": 5,
     "metadata": {},
     "output_type": "execute_result"
    }
   ],
   "source": [
    "#This is what our data looks like\n",
    "dataFiles[0].head()"
   ]
  },
  {
   "cell_type": "code",
   "execution_count": 6,
   "metadata": {},
   "outputs": [
    {
     "data": {
      "text/plain": [
       "(124, 7)"
      ]
     },
     "execution_count": 6,
     "metadata": {},
     "output_type": "execute_result"
    }
   ],
   "source": [
    "#The dimensions of the stock data\n",
    "dataFiles[0].shape"
   ]
  },
  {
   "cell_type": "code",
   "execution_count": 7,
   "metadata": {},
   "outputs": [
    {
     "data": {
      "text/plain": [
       "[('Buy', 5.0),\n",
       " ('Outperform', 4.0),\n",
       " ('Hold', 3.0),\n",
       " ('Underperform', 2.0),\n",
       " ('Sell', 1.0)]"
      ]
     },
     "execution_count": 7,
     "metadata": {},
     "output_type": "execute_result"
    }
   ],
   "source": [
    "ratings_file = \"Ratings.xlsx\"\n",
    "rating_df = pd.read_excel(ratings_file)\n",
    "rating_cols = rating_df.columns.tolist()\n",
    "rating_rows = rating_df.index.values.tolist()[1:] # skip first row\n",
    "rating_rows"
   ]
  },
  {
   "cell_type": "code",
   "execution_count": 8,
   "metadata": {},
   "outputs": [
    {
     "data": {
      "text/plain": [
       "['Current Rating', '1 Month Ago', '2 Months Ago', '3 Months Ago']"
      ]
     },
     "execution_count": 8,
     "metadata": {},
     "output_type": "execute_result"
    }
   ],
   "source": [
    "rating_cols"
   ]
  },
  {
   "cell_type": "code",
   "execution_count": 9,
   "metadata": {
    "collapsed": true
   },
   "outputs": [],
   "source": [
    "#Lets store the ratings in a form we can understand\n",
    "ratings_folder = \"Ratings\"\n",
    "xlsxRatingFiles = sorted(glob.glob(ratings_folder + \"/*.xlsx\"))\n",
    "ratingsFiles = []\n",
    "for ratingFile in xlsxRatingFiles:\n",
    "    rf = pd.read_excel(ratingFile, names=rating_cols, index=False)\n",
    "    ratingsFiles.append(rf)"
   ]
  },
  {
   "cell_type": "code",
   "execution_count": 10,
   "metadata": {},
   "outputs": [
    {
     "data": {
      "text/html": [
       "<div>\n",
       "<style>\n",
       "    .dataframe thead tr:only-child th {\n",
       "        text-align: right;\n",
       "    }\n",
       "\n",
       "    .dataframe thead th {\n",
       "        text-align: left;\n",
       "    }\n",
       "\n",
       "    .dataframe tbody tr th {\n",
       "        vertical-align: top;\n",
       "    }\n",
       "</style>\n",
       "<table border=\"1\" class=\"dataframe\">\n",
       "  <thead>\n",
       "    <tr style=\"text-align: right;\">\n",
       "      <th></th>\n",
       "      <th>Current Rating</th>\n",
       "      <th>1 Month Ago</th>\n",
       "      <th>2 Months Ago</th>\n",
       "      <th>3 Months Ago</th>\n",
       "    </tr>\n",
       "  </thead>\n",
       "  <tbody>\n",
       "    <tr>\n",
       "      <th>5</th>\n",
       "      <td>6</td>\n",
       "      <td>6</td>\n",
       "      <td>7</td>\n",
       "      <td>8</td>\n",
       "    </tr>\n",
       "    <tr>\n",
       "      <th>4</th>\n",
       "      <td>0</td>\n",
       "      <td>0</td>\n",
       "      <td>0</td>\n",
       "      <td>0</td>\n",
       "    </tr>\n",
       "    <tr>\n",
       "      <th>3</th>\n",
       "      <td>5</td>\n",
       "      <td>5</td>\n",
       "      <td>4</td>\n",
       "      <td>3</td>\n",
       "    </tr>\n",
       "    <tr>\n",
       "      <th>2</th>\n",
       "      <td>0</td>\n",
       "      <td>0</td>\n",
       "      <td>0</td>\n",
       "      <td>0</td>\n",
       "    </tr>\n",
       "    <tr>\n",
       "      <th>1</th>\n",
       "      <td>0</td>\n",
       "      <td>0</td>\n",
       "      <td>0</td>\n",
       "      <td>0</td>\n",
       "    </tr>\n",
       "  </tbody>\n",
       "</table>\n",
       "</div>"
      ],
      "text/plain": [
       "   Current Rating  1 Month Ago  2 Months Ago  3 Months Ago\n",
       "5               6            6             7             8\n",
       "4               0            0             0             0\n",
       "3               5            5             4             3\n",
       "2               0            0             0             0\n",
       "1               0            0             0             0"
      ]
     },
     "execution_count": 10,
     "metadata": {},
     "output_type": "execute_result"
    }
   ],
   "source": [
    "#This is what our ratings look like\n",
    "ratingsFiles[0].head()"
   ]
  },
  {
   "cell_type": "code",
   "execution_count": 11,
   "metadata": {},
   "outputs": [
    {
     "data": {
      "text/plain": [
       "(5, 4)"
      ]
     },
     "execution_count": 11,
     "metadata": {},
     "output_type": "execute_result"
    }
   ],
   "source": [
    "#The dimensions of the ratings data -- 5 rows and 4 columns\n",
    "ratingsFiles[0].shape"
   ]
  },
  {
   "cell_type": "code",
   "execution_count": 12,
   "metadata": {
    "collapsed": true
   },
   "outputs": [],
   "source": [
    "#  assume ratings come at the end of the month\n",
    "# rows are ratings\n",
    "# columns are months\n",
    "# entries are number of analysts that gave a stock a having a certain rating during that month\n",
    "# get stock ROI for each month for each stock\n",
    "\n",
    "start3MonthsAgo = dt.datetime(2018, 1, 1)\n",
    "end2MonthsAgo = dt.datetime(2018, 1, 31)\n",
    "\n",
    "start2MonthsAgo = dt.datetime(2018, 2, 1)\n",
    "end1MonthAgo = dt.datetime(2018, 2, 28)\n",
    "\n",
    "start1MonthAgo = dt.datetime(2018, 3, 1)\n",
    "end1MonthAgo = dt.datetime(2018, 3, 29)"
   ]
  },
  {
   "cell_type": "code",
   "execution_count": 13,
   "metadata": {
    "collapsed": true
   },
   "outputs": [],
   "source": [
    "allPriceDifs = []\n",
    "for idx, dataFile in enumerate(dataFiles):\n",
    "# first select data from 3 months ago\n",
    "    df = dataFile\n",
    "    df['Date'] = pd.to_datetime(df['Date'])  \n",
    "    threeMonthmask = (df['Date'] >= start3MonthsAgo) & (df['Date'] <= end2MonthsAgo)\n",
    "    twoMonthmask = (df['Date'] >= start2MonthsAgo) & (df['Date'] <= end1MonthAgo)\n",
    "    oneMonthmask = (df['Date'] >= start1MonthAgo) & (df['Date'] <= end1MonthAgo)\n",
    "    dfLocList = [df.loc[threeMonthmask], df.loc[twoMonthmask], df.loc[oneMonthmask]]\n",
    "    priceDifs = []\n",
    "    for dfLoc in dfLocList:\n",
    "        first_day = dfLoc.iloc[0]\n",
    "        last_day  = dfLoc.iloc[-1]\n",
    "        price_diff = last_day[\"Adj Close\"] - first_day[\"Adj Close\"]\n",
    "        pct_dif = 100 * (price_diff / 2)\n",
    "        priceDifs.append(pct_dif)\n",
    "    allPriceDifs.append(priceDifs)"
   ]
  },
  {
   "cell_type": "code",
   "execution_count": 89,
   "metadata": {},
   "outputs": [
    {
     "data": {
      "text/html": [
       "<div>\n",
       "<style>\n",
       "    .dataframe thead tr:only-child th {\n",
       "        text-align: right;\n",
       "    }\n",
       "\n",
       "    .dataframe thead th {\n",
       "        text-align: left;\n",
       "    }\n",
       "\n",
       "    .dataframe tbody tr th {\n",
       "        vertical-align: top;\n",
       "    }\n",
       "</style>\n",
       "<table border=\"1\" class=\"dataframe\">\n",
       "  <thead>\n",
       "    <tr style=\"text-align: right;\">\n",
       "      <th></th>\n",
       "      <th>jan_pct_dif</th>\n",
       "      <th>feb_pct_dif</th>\n",
       "      <th>mar_pct_dif</th>\n",
       "    </tr>\n",
       "  </thead>\n",
       "  <tbody>\n",
       "    <tr>\n",
       "      <th>0</th>\n",
       "      <td>-240.51895</td>\n",
       "      <td>34.06375</td>\n",
       "      <td>-361.00005</td>\n",
       "    </tr>\n",
       "    <tr>\n",
       "      <th>1</th>\n",
       "      <td>40.39270</td>\n",
       "      <td>-336.00005</td>\n",
       "      <td>-93.00000</td>\n",
       "    </tr>\n",
       "    <tr>\n",
       "      <th>2</th>\n",
       "      <td>2862.37030</td>\n",
       "      <td>-1365.33355</td>\n",
       "      <td>-1090.49985</td>\n",
       "    </tr>\n",
       "    <tr>\n",
       "      <th>3</th>\n",
       "      <td>323.27655</td>\n",
       "      <td>-743.00000</td>\n",
       "      <td>-142.49955</td>\n",
       "    </tr>\n",
       "    <tr>\n",
       "      <th>4</th>\n",
       "      <td>148.38525</td>\n",
       "      <td>59.49990</td>\n",
       "      <td>-45.50000</td>\n",
       "    </tr>\n",
       "  </tbody>\n",
       "</table>\n",
       "</div>"
      ],
      "text/plain": [
       "   jan_pct_dif  feb_pct_dif  mar_pct_dif\n",
       "0   -240.51895     34.06375   -361.00005\n",
       "1     40.39270   -336.00005    -93.00000\n",
       "2   2862.37030  -1365.33355  -1090.49985\n",
       "3    323.27655   -743.00000   -142.49955\n",
       "4    148.38525     59.49990    -45.50000"
      ]
     },
     "execution_count": 89,
     "metadata": {},
     "output_type": "execute_result"
    }
   ],
   "source": [
    "priceDifs = pd.DataFrame(data=allPriceDifs, columns=[\"jan_pct_dif\", \"feb_pct_dif\", \"mar_pct_dif\"])\n",
    "priceDifs.head()"
   ]
  },
  {
   "cell_type": "code",
   "execution_count": 90,
   "metadata": {},
   "outputs": [],
   "source": [
    "ratings_january = [f[\"3 Months Ago\"].mean() for f in ratingsFiles]\n",
    "ratings_february = [f[\"2 Months Ago\"].mean() for f in ratingsFiles]\n",
    "ratings_march = [f[\"1 Month Ago\"].mean() for f in ratingsFiles]\n",
    "\n",
    "X_train = pd.DataFrame(data=list(zip(ratings_january, ratings_february)), columns=[\"jan_mean_rating\", \"feb_mean_rating\"])\n",
    "y_train = priceDifs[[\"feb_pct_dif\", \"jan_pct_dif\"]]\n",
    "X_test = pd.DataFrame(data=ratings_march, columns=[\"mar_mean_rating\"])\n",
    "y_test = priceDifs[\"mar_pct_dif\"]"
   ]
  },
  {
   "cell_type": "code",
   "execution_count": 122,
   "metadata": {},
   "outputs": [],
   "source": [
    "# http://docs.pymc.io/notebooks/GLM-logistic.html# The likelihood is the product of Bernoulli trials\n",
    "# data = pd.concat([y_test, X_test], axis=1)\n",
    "# with pm.Model() as logistic_model:\n",
    "#     pm.glm.GLM.from_formula('mar_pct_dif ~ mar_mean_rating', data, family=pm.glm.families.Binomial())\n",
    "#     trace_logistic_model = pm.sample(2000, chains=1, tune=1000)"
   ]
  },
  {
   "cell_type": "code",
   "execution_count": 144,
   "metadata": {},
   "outputs": [
    {
     "name": "stdout",
     "output_type": "stream",
     "text": [
      "   jan_mean_rating  feb_mean_rating\n",
      "0              2.2              2.2\n",
      "1              1.4              1.6\n",
      "2              1.8              1.8\n",
      "3              1.4              1.4\n",
      "4              1.6              1.6\n"
     ]
    },
    {
     "data": {
      "text/plain": [
       "array([324.64350562, 324.64353542, 324.64352052, 324.64355032,\n",
       "       324.64355032, 324.64355032, 324.64355032, 324.64355032,\n",
       "       324.64358012, 324.64353542, 324.64353542, 324.64352052,\n",
       "       324.64349072, 324.64356522, 324.64350562, 324.64352052,\n",
       "       324.64350562, 324.64359502, 324.64358012, 324.64352052,\n",
       "       324.64352052, 324.64355032, 324.64356522, 324.64359502,\n",
       "       324.64353542, 324.64358012, 324.64355032, 324.64352052,\n",
       "       324.64353542, 324.64355032])"
      ]
     },
     "execution_count": 144,
     "metadata": {},
     "output_type": "execute_result"
    }
   ],
   "source": [
    "# first stack x and y labels\n",
    "## TODO: make X 30-dimensional so that we get 30 weights (flip rows and columns)\n",
    "print(X_train.head())\n",
    "reg = linear_model.BayesianRidge()\n",
    "reg.fit(X_train[\"jan_mean_rating\"].reshape(-1, 1), y_train[\"jan_pct_dif\"].reshape(-1, 1))\n",
    "reg.predict(X_test)\n"
   ]
  },
  {
   "cell_type": "code",
   "execution_count": 136,
   "metadata": {},
   "outputs": [
    {
     "data": {
      "text/plain": [
       "array([-75.64556155, -75.64607093, -75.64581624, -75.64632563,\n",
       "       -75.64632563, -75.64632563, -75.64632563, -75.64632563,\n",
       "       -75.64683501, -75.64607093, -75.64607093, -75.64581624,\n",
       "       -75.64530686, -75.64658032, -75.64556155, -75.64581624,\n",
       "       -75.64556155, -75.6470897 , -75.64683501, -75.64581624,\n",
       "       -75.64581624, -75.64632563, -75.64658032, -75.6470897 ,\n",
       "       -75.64607093, -75.64683501, -75.64632563, -75.64581624,\n",
       "       -75.64607093, -75.64632563])"
      ]
     },
     "execution_count": 136,
     "metadata": {},
     "output_type": "execute_result"
    }
   ],
   "source": [
    "ard = linear_model.ARDRegression()\n",
    "ard.fit(X_train.stack().values.reshape(-1, 1), y_train.stack().values.reshape(-1, 1))\n",
    "ard.predict(X_test)"
   ]
  }
 ],
 "metadata": {
  "kernelspec": {
   "display_name": "Python 3",
   "language": "python",
   "name": "python3"
  },
  "language_info": {
   "codemirror_mode": {
    "name": "ipython",
    "version": 3
   },
   "file_extension": ".py",
   "mimetype": "text/x-python",
   "name": "python",
   "nbconvert_exporter": "python",
   "pygments_lexer": "ipython3",
   "version": "3.6.3"
  }
 },
 "nbformat": 4,
 "nbformat_minor": 2
}
