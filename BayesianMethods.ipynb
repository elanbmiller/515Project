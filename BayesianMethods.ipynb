{
 "cells": [
  {
   "cell_type": "code",
   "execution_count": 78,
   "metadata": {},
   "outputs": [],
   "source": [
    "import pandas as pd\n",
    "import numpy as np\n",
    "import glob\n",
    "import datetime as dt\n",
    "import pandas_datareader.data as web\n",
    "import quandl"
   ]
  },
  {
   "cell_type": "code",
   "execution_count": 79,
   "metadata": {},
   "outputs": [],
   "source": [
    "data_folder = \"data\"\n",
    "csvDataFiles = glob.glob(data_folder + \"/*.csv\")\n",
    "dataFiles = []\n",
    "for dataFile in csvDataFiles:\n",
    "    df = pd.read_csv(dataFile)\n",
    "    dataFiles.append(df)"
   ]
  },
  {
   "cell_type": "code",
   "execution_count": 80,
   "metadata": {},
   "outputs": [
    {
     "name": "stdout",
     "output_type": "stream",
     "text": [
      "30\n"
     ]
    }
   ],
   "source": [
    "#The number of stocks we have in our data folder\n",
    "print(len(dataFiles))"
   ]
  },
  {
   "cell_type": "code",
   "execution_count": 81,
   "metadata": {},
   "outputs": [
    {
     "data": {
      "text/html": [
       "<div>\n",
       "<style scoped>\n",
       "    .dataframe tbody tr th:only-of-type {\n",
       "        vertical-align: middle;\n",
       "    }\n",
       "\n",
       "    .dataframe tbody tr th {\n",
       "        vertical-align: top;\n",
       "    }\n",
       "\n",
       "    .dataframe thead th {\n",
       "        text-align: right;\n",
       "    }\n",
       "</style>\n",
       "<table border=\"1\" class=\"dataframe\">\n",
       "  <thead>\n",
       "    <tr style=\"text-align: right;\">\n",
       "      <th></th>\n",
       "      <th>Date</th>\n",
       "      <th>Open</th>\n",
       "      <th>High</th>\n",
       "      <th>Low</th>\n",
       "      <th>Close</th>\n",
       "      <th>Adj Close</th>\n",
       "      <th>Volume</th>\n",
       "    </tr>\n",
       "  </thead>\n",
       "  <tbody>\n",
       "    <tr>\n",
       "      <th>0</th>\n",
       "      <td>2017-10-02</td>\n",
       "      <td>52.160000</td>\n",
       "      <td>52.209999</td>\n",
       "      <td>51.660000</td>\n",
       "      <td>51.869999</td>\n",
       "      <td>51.542397</td>\n",
       "      <td>7516200</td>\n",
       "    </tr>\n",
       "    <tr>\n",
       "      <th>1</th>\n",
       "      <td>2017-10-03</td>\n",
       "      <td>52.000000</td>\n",
       "      <td>52.049999</td>\n",
       "      <td>51.400002</td>\n",
       "      <td>51.470001</td>\n",
       "      <td>51.144924</td>\n",
       "      <td>8126700</td>\n",
       "    </tr>\n",
       "    <tr>\n",
       "      <th>2</th>\n",
       "      <td>2017-10-04</td>\n",
       "      <td>51.509998</td>\n",
       "      <td>52.130001</td>\n",
       "      <td>51.400002</td>\n",
       "      <td>52.080002</td>\n",
       "      <td>51.751072</td>\n",
       "      <td>8204300</td>\n",
       "    </tr>\n",
       "    <tr>\n",
       "      <th>3</th>\n",
       "      <td>2017-10-05</td>\n",
       "      <td>52.009998</td>\n",
       "      <td>52.320000</td>\n",
       "      <td>51.779999</td>\n",
       "      <td>52.180000</td>\n",
       "      <td>51.850441</td>\n",
       "      <td>5287400</td>\n",
       "    </tr>\n",
       "    <tr>\n",
       "      <th>4</th>\n",
       "      <td>2017-10-06</td>\n",
       "      <td>52.200001</td>\n",
       "      <td>52.459999</td>\n",
       "      <td>52.119999</td>\n",
       "      <td>52.419998</td>\n",
       "      <td>52.088921</td>\n",
       "      <td>5360300</td>\n",
       "    </tr>\n",
       "  </tbody>\n",
       "</table>\n",
       "</div>"
      ],
      "text/plain": [
       "         Date       Open       High        Low      Close  Adj Close   Volume\n",
       "0  2017-10-02  52.160000  52.209999  51.660000  51.869999  51.542397  7516200\n",
       "1  2017-10-03  52.000000  52.049999  51.400002  51.470001  51.144924  8126700\n",
       "2  2017-10-04  51.509998  52.130001  51.400002  52.080002  51.751072  8204300\n",
       "3  2017-10-05  52.009998  52.320000  51.779999  52.180000  51.850441  5287400\n",
       "4  2017-10-06  52.200001  52.459999  52.119999  52.419998  52.088921  5360300"
      ]
     },
     "execution_count": 81,
     "metadata": {},
     "output_type": "execute_result"
    }
   ],
   "source": [
    "#This is what our data looks like\n",
    "dataFiles[0].head()"
   ]
  },
  {
   "cell_type": "code",
   "execution_count": 82,
   "metadata": {},
   "outputs": [
    {
     "data": {
      "text/html": [
       "<div>\n",
       "<style scoped>\n",
       "    .dataframe tbody tr th:only-of-type {\n",
       "        vertical-align: middle;\n",
       "    }\n",
       "\n",
       "    .dataframe tbody tr th {\n",
       "        vertical-align: top;\n",
       "    }\n",
       "\n",
       "    .dataframe thead th {\n",
       "        text-align: right;\n",
       "    }\n",
       "</style>\n",
       "<table border=\"1\" class=\"dataframe\">\n",
       "  <thead>\n",
       "    <tr style=\"text-align: right;\">\n",
       "      <th></th>\n",
       "      <th>Date</th>\n",
       "      <th>Open</th>\n",
       "      <th>High</th>\n",
       "      <th>Low</th>\n",
       "      <th>Close</th>\n",
       "      <th>Adj Close</th>\n",
       "      <th>Volume</th>\n",
       "    </tr>\n",
       "  </thead>\n",
       "  <tbody>\n",
       "    <tr>\n",
       "      <th>119</th>\n",
       "      <td>2018-03-23</td>\n",
       "      <td>66.699997</td>\n",
       "      <td>67.110001</td>\n",
       "      <td>64.459999</td>\n",
       "      <td>64.629997</td>\n",
       "      <td>64.629997</td>\n",
       "      <td>17343800</td>\n",
       "    </tr>\n",
       "    <tr>\n",
       "      <th>120</th>\n",
       "      <td>2018-03-26</td>\n",
       "      <td>65.080002</td>\n",
       "      <td>66.059998</td>\n",
       "      <td>64.989998</td>\n",
       "      <td>65.900002</td>\n",
       "      <td>65.900002</td>\n",
       "      <td>10796000</td>\n",
       "    </tr>\n",
       "    <tr>\n",
       "      <th>121</th>\n",
       "      <td>2018-03-27</td>\n",
       "      <td>65.889999</td>\n",
       "      <td>67.639999</td>\n",
       "      <td>65.430000</td>\n",
       "      <td>66.169998</td>\n",
       "      <td>66.169998</td>\n",
       "      <td>9452500</td>\n",
       "    </tr>\n",
       "    <tr>\n",
       "      <th>122</th>\n",
       "      <td>2018-03-28</td>\n",
       "      <td>66.589996</td>\n",
       "      <td>67.150002</td>\n",
       "      <td>65.269997</td>\n",
       "      <td>65.440002</td>\n",
       "      <td>65.440002</td>\n",
       "      <td>7208400</td>\n",
       "    </tr>\n",
       "    <tr>\n",
       "      <th>123</th>\n",
       "      <td>2018-03-29</td>\n",
       "      <td>65.699997</td>\n",
       "      <td>66.550003</td>\n",
       "      <td>65.610001</td>\n",
       "      <td>66.440002</td>\n",
       "      <td>66.440002</td>\n",
       "      <td>10405800</td>\n",
       "    </tr>\n",
       "  </tbody>\n",
       "</table>\n",
       "</div>"
      ],
      "text/plain": [
       "           Date       Open       High        Low      Close  Adj Close  \\\n",
       "119  2018-03-23  66.699997  67.110001  64.459999  64.629997  64.629997   \n",
       "120  2018-03-26  65.080002  66.059998  64.989998  65.900002  65.900002   \n",
       "121  2018-03-27  65.889999  67.639999  65.430000  66.169998  66.169998   \n",
       "122  2018-03-28  66.589996  67.150002  65.269997  65.440002  65.440002   \n",
       "123  2018-03-29  65.699997  66.550003  65.610001  66.440002  66.440002   \n",
       "\n",
       "       Volume  \n",
       "119  17343800  \n",
       "120  10796000  \n",
       "121   9452500  \n",
       "122   7208400  \n",
       "123  10405800  "
      ]
     },
     "execution_count": 82,
     "metadata": {},
     "output_type": "execute_result"
    }
   ],
   "source": [
    "#This is what the end of the data looks like\n",
    "#We can see it goes from 10/2/17 - 03/29/18\n",
    "dataFiles[0].tail()"
   ]
  },
  {
   "cell_type": "code",
   "execution_count": 83,
   "metadata": {},
   "outputs": [
    {
     "data": {
      "text/plain": [
       "(124, 7)"
      ]
     },
     "execution_count": 83,
     "metadata": {},
     "output_type": "execute_result"
    }
   ],
   "source": [
    "#The dimensions of the stock data -- 124 rows and 7 columns\n",
    "dataFiles[0].shape"
   ]
  },
  {
   "cell_type": "code",
   "execution_count": 84,
   "metadata": {},
   "outputs": [],
   "source": [
    "#Lets store the ratings in a form we can understand\n",
    "ratings_folder = \"Ratings\"\n",
    "xlsxRatingFiles = glob.glob(ratings_folder + \"/*.xlsx\")\n",
    "ratingsFiles = []\n",
    "for ratingFile in xlsxRatingFiles:\n",
    "    rf = pd.ExcelFile(ratingFile)\n",
    "    ratingsFiles.append(rf.parse())"
   ]
  },
  {
   "cell_type": "code",
   "execution_count": 85,
   "metadata": {},
   "outputs": [
    {
     "name": "stdout",
     "output_type": "stream",
     "text": [
      "30\n"
     ]
    }
   ],
   "source": [
    "#The number of ratings files we have in our ratings folder\n",
    "print(len(ratingsFiles))"
   ]
  },
  {
   "cell_type": "code",
   "execution_count": 86,
   "metadata": {},
   "outputs": [
    {
     "data": {
      "text/html": [
       "<div>\n",
       "<style scoped>\n",
       "    .dataframe tbody tr th:only-of-type {\n",
       "        vertical-align: middle;\n",
       "    }\n",
       "\n",
       "    .dataframe tbody tr th {\n",
       "        vertical-align: top;\n",
       "    }\n",
       "\n",
       "    .dataframe thead th {\n",
       "        text-align: right;\n",
       "    }\n",
       "</style>\n",
       "<table border=\"1\" class=\"dataframe\">\n",
       "  <thead>\n",
       "    <tr style=\"text-align: right;\">\n",
       "      <th></th>\n",
       "      <th>0</th>\n",
       "      <th>1</th>\n",
       "      <th>2</th>\n",
       "      <th>3</th>\n",
       "    </tr>\n",
       "  </thead>\n",
       "  <tbody>\n",
       "    <tr>\n",
       "      <th>5</th>\n",
       "      <td>1</td>\n",
       "      <td>1</td>\n",
       "      <td>1</td>\n",
       "      <td>1</td>\n",
       "    </tr>\n",
       "    <tr>\n",
       "      <th>4</th>\n",
       "      <td>0</td>\n",
       "      <td>0</td>\n",
       "      <td>0</td>\n",
       "      <td>0</td>\n",
       "    </tr>\n",
       "    <tr>\n",
       "      <th>3</th>\n",
       "      <td>7</td>\n",
       "      <td>7</td>\n",
       "      <td>7</td>\n",
       "      <td>7</td>\n",
       "    </tr>\n",
       "    <tr>\n",
       "      <th>2</th>\n",
       "      <td>0</td>\n",
       "      <td>0</td>\n",
       "      <td>0</td>\n",
       "      <td>0</td>\n",
       "    </tr>\n",
       "    <tr>\n",
       "      <th>1</th>\n",
       "      <td>0</td>\n",
       "      <td>0</td>\n",
       "      <td>0</td>\n",
       "      <td>0</td>\n",
       "    </tr>\n",
       "  </tbody>\n",
       "</table>\n",
       "</div>"
      ],
      "text/plain": [
       "   0  1  2  3\n",
       "5  1  1  1  1\n",
       "4  0  0  0  0\n",
       "3  7  7  7  7\n",
       "2  0  0  0  0\n",
       "1  0  0  0  0"
      ]
     },
     "execution_count": 86,
     "metadata": {},
     "output_type": "execute_result"
    }
   ],
   "source": [
    "#This is what our ratings look like\n",
    "ratingsFiles[0].head()"
   ]
  },
  {
   "cell_type": "code",
   "execution_count": 87,
   "metadata": {},
   "outputs": [
    {
     "data": {
      "text/plain": [
       "(5, 4)"
      ]
     },
     "execution_count": 87,
     "metadata": {},
     "output_type": "execute_result"
    }
   ],
   "source": [
    "#The dimensions of the ratings data -- 5 rows and 4 columns\n",
    "ratingsFiles[0].shape"
   ]
  },
  {
   "cell_type": "code",
   "execution_count": 88,
   "metadata": {},
   "outputs": [
    {
     "ename": "LimitExceededError",
     "evalue": "(Status 429) (Quandl Error QELx04) You have exceeded the API speed limit. Please slow down your requests by reducing the number of requests made at the same time.",
     "output_type": "error",
     "traceback": [
      "\u001b[0;31m---------------------------------------------------------------------------\u001b[0m",
      "\u001b[0;31mLimitExceededError\u001b[0m                        Traceback (most recent call last)",
      "\u001b[0;32m<ipython-input-88-c12754619ad3>\u001b[0m in \u001b[0;36m<module>\u001b[0;34m()\u001b[0m\n\u001b[1;32m     10\u001b[0m \u001b[0mend1MonthAgo\u001b[0m \u001b[0;34m=\u001b[0m \u001b[0mdt\u001b[0m\u001b[0;34m.\u001b[0m\u001b[0mdatetime\u001b[0m\u001b[0;34m(\u001b[0m\u001b[0;36m2018\u001b[0m\u001b[0;34m,\u001b[0m \u001b[0;36m3\u001b[0m\u001b[0;34m,\u001b[0m \u001b[0;36m29\u001b[0m\u001b[0;34m)\u001b[0m\u001b[0;34m\u001b[0m\u001b[0m\n\u001b[1;32m     11\u001b[0m \u001b[0;34m\u001b[0m\u001b[0m\n\u001b[0;32m---> 12\u001b[0;31m \u001b[0mnasdaqData1MonthAgo\u001b[0m \u001b[0;34m=\u001b[0m \u001b[0mquandl\u001b[0m\u001b[0;34m.\u001b[0m\u001b[0mget\u001b[0m\u001b[0;34m(\u001b[0m\u001b[0;34m\"NASDAQOMX/COMP-NASDAQ\"\u001b[0m\u001b[0;34m,\u001b[0m \u001b[0mtrim_start\u001b[0m\u001b[0;34m=\u001b[0m\u001b[0mstart1MonthAgo\u001b[0m\u001b[0;34m,\u001b[0m \u001b[0mtrim_end\u001b[0m\u001b[0;34m=\u001b[0m\u001b[0mend1MonthAgo\u001b[0m\u001b[0;34m)\u001b[0m\u001b[0;34m\u001b[0m\u001b[0m\n\u001b[0m\u001b[1;32m     13\u001b[0m \u001b[0;34m\u001b[0m\u001b[0m\n\u001b[1;32m     14\u001b[0m \u001b[0;31m#Don't execute the next 2 lines until later, otherwise the API will be overloaded and block you\u001b[0m\u001b[0;34m\u001b[0m\u001b[0;34m\u001b[0m\u001b[0m\n",
      "\u001b[0;32m/home/retsim/anaconda2/lib/python2.7/site-packages/quandl/get.pyc\u001b[0m in \u001b[0;36mget\u001b[0;34m(dataset, **kwargs)\u001b[0m\n\u001b[1;32m     46\u001b[0m         \u001b[0;32mif\u001b[0m \u001b[0mdataset_args\u001b[0m\u001b[0;34m[\u001b[0m\u001b[0;34m'column_index'\u001b[0m\u001b[0;34m]\u001b[0m \u001b[0;32mis\u001b[0m \u001b[0;32mnot\u001b[0m \u001b[0mNone\u001b[0m\u001b[0;34m:\u001b[0m\u001b[0;34m\u001b[0m\u001b[0m\n\u001b[1;32m     47\u001b[0m             \u001b[0mkwargs\u001b[0m\u001b[0;34m.\u001b[0m\u001b[0mupdate\u001b[0m\u001b[0;34m(\u001b[0m\u001b[0;34m{\u001b[0m\u001b[0;34m'column_index'\u001b[0m\u001b[0;34m:\u001b[0m \u001b[0mdataset_args\u001b[0m\u001b[0;34m[\u001b[0m\u001b[0;34m'column_index'\u001b[0m\u001b[0;34m]\u001b[0m\u001b[0;34m}\u001b[0m\u001b[0;34m)\u001b[0m\u001b[0;34m\u001b[0m\u001b[0m\n\u001b[0;32m---> 48\u001b[0;31m         \u001b[0mdata\u001b[0m \u001b[0;34m=\u001b[0m \u001b[0mDataset\u001b[0m\u001b[0;34m(\u001b[0m\u001b[0mdataset_args\u001b[0m\u001b[0;34m[\u001b[0m\u001b[0;34m'code'\u001b[0m\u001b[0;34m]\u001b[0m\u001b[0;34m)\u001b[0m\u001b[0;34m.\u001b[0m\u001b[0mdata\u001b[0m\u001b[0;34m(\u001b[0m\u001b[0mparams\u001b[0m\u001b[0;34m=\u001b[0m\u001b[0mkwargs\u001b[0m\u001b[0;34m,\u001b[0m \u001b[0mhandle_column_not_found\u001b[0m\u001b[0;34m=\u001b[0m\u001b[0mTrue\u001b[0m\u001b[0;34m)\u001b[0m\u001b[0;34m\u001b[0m\u001b[0m\n\u001b[0m\u001b[1;32m     49\u001b[0m     \u001b[0;31m# Array\u001b[0m\u001b[0;34m\u001b[0m\u001b[0;34m\u001b[0m\u001b[0m\n\u001b[1;32m     50\u001b[0m     \u001b[0;32melif\u001b[0m \u001b[0misinstance\u001b[0m\u001b[0;34m(\u001b[0m\u001b[0mdataset\u001b[0m\u001b[0;34m,\u001b[0m \u001b[0mlist\u001b[0m\u001b[0;34m)\u001b[0m\u001b[0;34m:\u001b[0m\u001b[0;34m\u001b[0m\u001b[0m\n",
      "\u001b[0;32m/home/retsim/anaconda2/lib/python2.7/site-packages/quandl/model/dataset.pyc\u001b[0m in \u001b[0;36mdata\u001b[0;34m(self, **options)\u001b[0m\n\u001b[1;32m     45\u001b[0m         \u001b[0mupdated_options\u001b[0m \u001b[0;34m=\u001b[0m \u001b[0mUtil\u001b[0m\u001b[0;34m.\u001b[0m\u001b[0mmerge_options\u001b[0m\u001b[0;34m(\u001b[0m\u001b[0;34m'params'\u001b[0m\u001b[0;34m,\u001b[0m \u001b[0mparams\u001b[0m\u001b[0;34m,\u001b[0m \u001b[0;34m**\u001b[0m\u001b[0moptions\u001b[0m\u001b[0;34m)\u001b[0m\u001b[0;34m\u001b[0m\u001b[0m\n\u001b[1;32m     46\u001b[0m         \u001b[0;32mtry\u001b[0m\u001b[0;34m:\u001b[0m\u001b[0;34m\u001b[0m\u001b[0m\n\u001b[0;32m---> 47\u001b[0;31m             \u001b[0;32mreturn\u001b[0m \u001b[0mData\u001b[0m\u001b[0;34m.\u001b[0m\u001b[0mall\u001b[0m\u001b[0;34m(\u001b[0m\u001b[0;34m**\u001b[0m\u001b[0mupdated_options\u001b[0m\u001b[0;34m)\u001b[0m\u001b[0;34m\u001b[0m\u001b[0m\n\u001b[0m\u001b[1;32m     48\u001b[0m         \u001b[0;32mexcept\u001b[0m \u001b[0mNotFoundError\u001b[0m\u001b[0;34m:\u001b[0m\u001b[0;34m\u001b[0m\u001b[0m\n\u001b[1;32m     49\u001b[0m             \u001b[0;32mif\u001b[0m \u001b[0mhandle_not_found_error\u001b[0m\u001b[0;34m:\u001b[0m\u001b[0;34m\u001b[0m\u001b[0m\n",
      "\u001b[0;32m/home/retsim/anaconda2/lib/python2.7/site-packages/quandl/operations/list.pyc\u001b[0m in \u001b[0;36mall\u001b[0;34m(cls, **options)\u001b[0m\n\u001b[1;32m     12\u001b[0m             \u001b[0moptions\u001b[0m\u001b[0;34m[\u001b[0m\u001b[0;34m'params'\u001b[0m\u001b[0;34m]\u001b[0m \u001b[0;34m=\u001b[0m \u001b[0;34m{\u001b[0m\u001b[0;34m}\u001b[0m\u001b[0;34m\u001b[0m\u001b[0m\n\u001b[1;32m     13\u001b[0m         \u001b[0mpath\u001b[0m \u001b[0;34m=\u001b[0m \u001b[0mUtil\u001b[0m\u001b[0;34m.\u001b[0m\u001b[0mconstructed_path\u001b[0m\u001b[0;34m(\u001b[0m\u001b[0mcls\u001b[0m\u001b[0;34m.\u001b[0m\u001b[0mlist_path\u001b[0m\u001b[0;34m(\u001b[0m\u001b[0;34m)\u001b[0m\u001b[0;34m,\u001b[0m \u001b[0moptions\u001b[0m\u001b[0;34m[\u001b[0m\u001b[0;34m'params'\u001b[0m\u001b[0;34m]\u001b[0m\u001b[0;34m)\u001b[0m\u001b[0;34m\u001b[0m\u001b[0m\n\u001b[0;32m---> 14\u001b[0;31m         \u001b[0mr\u001b[0m \u001b[0;34m=\u001b[0m \u001b[0mConnection\u001b[0m\u001b[0;34m.\u001b[0m\u001b[0mrequest\u001b[0m\u001b[0;34m(\u001b[0m\u001b[0;34m'get'\u001b[0m\u001b[0;34m,\u001b[0m \u001b[0mpath\u001b[0m\u001b[0;34m,\u001b[0m \u001b[0;34m**\u001b[0m\u001b[0moptions\u001b[0m\u001b[0;34m)\u001b[0m\u001b[0;34m\u001b[0m\u001b[0m\n\u001b[0m\u001b[1;32m     15\u001b[0m         \u001b[0mresponse_data\u001b[0m \u001b[0;34m=\u001b[0m \u001b[0mr\u001b[0m\u001b[0;34m.\u001b[0m\u001b[0mjson\u001b[0m\u001b[0;34m(\u001b[0m\u001b[0;34m)\u001b[0m\u001b[0;34m\u001b[0m\u001b[0m\n\u001b[1;32m     16\u001b[0m         \u001b[0mUtil\u001b[0m\u001b[0;34m.\u001b[0m\u001b[0mconvert_to_dates\u001b[0m\u001b[0;34m(\u001b[0m\u001b[0mresponse_data\u001b[0m\u001b[0;34m)\u001b[0m\u001b[0;34m\u001b[0m\u001b[0m\n",
      "\u001b[0;32m/home/retsim/anaconda2/lib/python2.7/site-packages/quandl/connection.pyc\u001b[0m in \u001b[0;36mrequest\u001b[0;34m(cls, http_verb, url, **options)\u001b[0m\n\u001b[1;32m     34\u001b[0m         \u001b[0mabs_url\u001b[0m \u001b[0;34m=\u001b[0m \u001b[0;34m'%s/%s'\u001b[0m \u001b[0;34m%\u001b[0m \u001b[0;34m(\u001b[0m\u001b[0mApiConfig\u001b[0m\u001b[0;34m.\u001b[0m\u001b[0mapi_base\u001b[0m\u001b[0;34m,\u001b[0m \u001b[0murl\u001b[0m\u001b[0;34m)\u001b[0m\u001b[0;34m\u001b[0m\u001b[0m\n\u001b[1;32m     35\u001b[0m \u001b[0;34m\u001b[0m\u001b[0m\n\u001b[0;32m---> 36\u001b[0;31m         \u001b[0;32mreturn\u001b[0m \u001b[0mcls\u001b[0m\u001b[0;34m.\u001b[0m\u001b[0mexecute_request\u001b[0m\u001b[0;34m(\u001b[0m\u001b[0mhttp_verb\u001b[0m\u001b[0;34m,\u001b[0m \u001b[0mabs_url\u001b[0m\u001b[0;34m,\u001b[0m \u001b[0;34m**\u001b[0m\u001b[0moptions\u001b[0m\u001b[0;34m)\u001b[0m\u001b[0;34m\u001b[0m\u001b[0m\n\u001b[0m\u001b[1;32m     37\u001b[0m \u001b[0;34m\u001b[0m\u001b[0m\n\u001b[1;32m     38\u001b[0m     \u001b[0;34m@\u001b[0m\u001b[0mclassmethod\u001b[0m\u001b[0;34m\u001b[0m\u001b[0m\n",
      "\u001b[0;32m/home/retsim/anaconda2/lib/python2.7/site-packages/quandl/connection.pyc\u001b[0m in \u001b[0;36mexecute_request\u001b[0;34m(cls, http_verb, url, **options)\u001b[0m\n\u001b[1;32m     42\u001b[0m             \u001b[0mresponse\u001b[0m \u001b[0;34m=\u001b[0m \u001b[0mfunc\u001b[0m\u001b[0;34m(\u001b[0m\u001b[0murl\u001b[0m\u001b[0;34m,\u001b[0m \u001b[0;34m**\u001b[0m\u001b[0moptions\u001b[0m\u001b[0;34m)\u001b[0m\u001b[0;34m\u001b[0m\u001b[0m\n\u001b[1;32m     43\u001b[0m             \u001b[0;32mif\u001b[0m \u001b[0mresponse\u001b[0m\u001b[0;34m.\u001b[0m\u001b[0mstatus_code\u001b[0m \u001b[0;34m<\u001b[0m \u001b[0;36m200\u001b[0m \u001b[0;32mor\u001b[0m \u001b[0mresponse\u001b[0m\u001b[0;34m.\u001b[0m\u001b[0mstatus_code\u001b[0m \u001b[0;34m>=\u001b[0m \u001b[0;36m300\u001b[0m\u001b[0;34m:\u001b[0m\u001b[0;34m\u001b[0m\u001b[0m\n\u001b[0;32m---> 44\u001b[0;31m                 \u001b[0mcls\u001b[0m\u001b[0;34m.\u001b[0m\u001b[0mhandle_api_error\u001b[0m\u001b[0;34m(\u001b[0m\u001b[0mresponse\u001b[0m\u001b[0;34m)\u001b[0m\u001b[0;34m\u001b[0m\u001b[0m\n\u001b[0m\u001b[1;32m     45\u001b[0m             \u001b[0;32melse\u001b[0m\u001b[0;34m:\u001b[0m\u001b[0;34m\u001b[0m\u001b[0m\n\u001b[1;32m     46\u001b[0m                 \u001b[0;32mreturn\u001b[0m \u001b[0mresponse\u001b[0m\u001b[0;34m\u001b[0m\u001b[0m\n",
      "\u001b[0;32m/home/retsim/anaconda2/lib/python2.7/site-packages/quandl/connection.pyc\u001b[0m in \u001b[0;36mhandle_api_error\u001b[0;34m(cls, resp)\u001b[0m\n\u001b[1;32m     83\u001b[0m         \u001b[0mklass\u001b[0m \u001b[0;34m=\u001b[0m \u001b[0md_klass\u001b[0m\u001b[0;34m.\u001b[0m\u001b[0mget\u001b[0m\u001b[0;34m(\u001b[0m\u001b[0mcode_letter\u001b[0m\u001b[0;34m,\u001b[0m \u001b[0mQuandlError\u001b[0m\u001b[0;34m)\u001b[0m\u001b[0;34m\u001b[0m\u001b[0m\n\u001b[1;32m     84\u001b[0m \u001b[0;34m\u001b[0m\u001b[0m\n\u001b[0;32m---> 85\u001b[0;31m         \u001b[0;32mraise\u001b[0m \u001b[0mklass\u001b[0m\u001b[0;34m(\u001b[0m\u001b[0mmessage\u001b[0m\u001b[0;34m,\u001b[0m \u001b[0mresp\u001b[0m\u001b[0;34m.\u001b[0m\u001b[0mstatus_code\u001b[0m\u001b[0;34m,\u001b[0m \u001b[0mresp\u001b[0m\u001b[0;34m.\u001b[0m\u001b[0mtext\u001b[0m\u001b[0;34m,\u001b[0m \u001b[0mresp\u001b[0m\u001b[0;34m.\u001b[0m\u001b[0mheaders\u001b[0m\u001b[0;34m,\u001b[0m \u001b[0mcode\u001b[0m\u001b[0;34m)\u001b[0m\u001b[0;34m\u001b[0m\u001b[0m\n\u001b[0m",
      "\u001b[0;31mLimitExceededError\u001b[0m: (Status 429) (Quandl Error QELx04) You have exceeded the API speed limit. Please slow down your requests by reducing the number of requests made at the same time."
     ]
    }
   ],
   "source": [
    "#Let's now find the stock market returns for each of the last 3 months of our data\n",
    "#as these are the months that we have ratings for\n",
    "start3MonthsAgo = dt.datetime(2017, 12, 29)\n",
    "end2MonthsAgo = dt.datetime(2018, 1, 29)\n",
    "\n",
    "start2MonthsAgo = end2MonthsAgo\n",
    "end1MonthAgo = dt.datetime(2018, 2, 28)\n",
    "\n",
    "start1MonthAgo = end1MonthAgo\n",
    "end1MonthAgo = dt.datetime(2018, 3, 29)\n",
    "\n",
    "nasdaqData1MonthAgo = quandl.get(\"NASDAQOMX/COMP-NASDAQ\", trim_start=start1MonthAgo, trim_end=end1MonthAgo)\n",
    "\n",
    "#Don't execute the next 2 lines until later, otherwise the API will be overloaded and block you\n",
    "#nasdaqData2MonthsAgo = quandl.get(\"NASDAQOMX/COMP-NASDAQ\", trim_start=end2MonthsAgo, trim_end=end1MonthAgo)\n",
    "#nasdaqData3MonthsAgo = quandl.get(\"NASDAQOMX/COMP-NASDAQ\", trim_start=start3MonthsAgo, trim_end=end2MonthsAgo)\n",
    "\n",
    "#Let's see what our data looks like\n",
    "nasdaqData1MonthAgo.head()"
   ]
  },
  {
   "cell_type": "code",
   "execution_count": null,
   "metadata": {},
   "outputs": [],
   "source": [
    "#Lets drop everything but the index value as that's all we will care about\n",
    "nasdaqData1MonthAgo = nasdaqData1MonthAgo[['Index Value']]\n",
    "nasdaqData1MonthAgo.head()"
   ]
  },
  {
   "cell_type": "code",
   "execution_count": null,
   "metadata": {},
   "outputs": [],
   "source": [
    "firstDay = 0\n",
    "initPrice = nasdaqData1MonthAgo.iloc[firstDay]['Index Value']\n",
    "\n",
    "lastDay = nasdaqData1MonthAgo.shape[0] - 1\n",
    "finalPrice = nasdaqData1MonthAgo.iloc[lastDay]['Index Value']\n",
    "\n",
    "#Market growth\n",
    "oneMonthAgoROI = (finalPrice - initPrice) / initPrice\n",
    "print(oneMonthAgoROI)"
   ]
  },
  {
   "cell_type": "code",
   "execution_count": null,
   "metadata": {},
   "outputs": [],
   "source": [
    "#Let's do the same thing for the 2 earlier months\n",
    "nasdaqData2MonthsAgo = quandl.get(\"NASDAQOMX/COMP-NASDAQ\", trim_start=end2MonthsAgo, trim_end=end1MonthAgo)\n",
    "nasdaqData2MonthsAgo = nasdaqData2MonthAgo[['Index Value']]\n",
    "\n",
    "firstDay = 0\n",
    "initPrice = nasdaqData2MonthsAgo.iloc[firstDay]['Index Value']\n",
    "\n",
    "lastDay = nasdaqData2MonthsAgo.shape[0] - 1\n",
    "finalPrice = nasdaqData2MonthsAgo.iloc[lastDay]['Index Value']\n",
    "\n",
    "#Market growth\n",
    "twoMonthsAgoROI = (finalPrice - initPrice) / initPrice\n",
    "print(twoMonthsAgoROI)"
   ]
  },
  {
   "cell_type": "code",
   "execution_count": null,
   "metadata": {},
   "outputs": [],
   "source": [
    "#And for 3rd month ago\n",
    "nasdaqData3MonthsAgo = quandl.get(\"NASDAQOMX/COMP-NASDAQ\", trim_start=start3MonthsAgo, trim_end=end2MonthsAgo)\n",
    "nasdaqData23MonthsAgo = nasdaqData3MonthsAgo[['Index Value']]\n",
    "\n",
    "firstDay = 0\n",
    "initPrice = nasdaqData3MonthsAgo.iloc[firstDay]['Index Value']\n",
    "\n",
    "lastDay = nasdaqData3MonthsAgo.shape[0] - 1\n",
    "finalPrice = nasdaqData3MonthsAgo.iloc[lastDay]['Index Value']\n",
    "\n",
    "#Market growth\n",
    "threeMonthsAgoROI = (finalPrice - initPrice) / initPrice\n",
    "print(threeMonthsAgoROI)"
   ]
  },
  {
   "cell_type": "code",
   "execution_count": 108,
   "metadata": {},
   "outputs": [
    {
     "name": "stdout",
     "output_type": "stream",
     "text": [
      "3.25\n",
      "4.2\n",
      "4.8\n",
      "3.4\n",
      "3.2222222222222223\n",
      "4.0\n",
      "4.5\n",
      "4.125\n",
      "3.6363636363636362\n",
      "4.0\n",
      "3.9\n",
      "4.444444444444445\n",
      "4.285714285714286\n",
      "3.2222222222222223\n",
      "3.6\n",
      "4.090909090909091\n",
      "4.8\n",
      "4.3\n",
      "4.285714285714286\n",
      "4.090909090909091\n",
      "4.125\n",
      "3.5\n",
      "4.625\n",
      "4.625\n",
      "4.125\n",
      "4.555555555555555\n",
      "3.4444444444444446\n",
      "2.8333333333333335\n",
      "3.8\n",
      "3.5833333333333335\n"
     ]
    }
   ],
   "source": [
    "#Let's see how to professionals' ratings for specific stocks compared to the market returns\n",
    "\n",
    "#The NASDAQ growth looks like this:\n",
    "#12/29/17 - 01/29/18 : 8.15715177615635 %\n",
    "#01/29/18 - 02/28/18 : -5.398372197988091 %\n",
    "#02/28/18 - 03/29/18 : -2.881475482640621 %\n",
    "\n",
    "#We don't need the current rating, so we'll drop it from each of the ratings data frames\n",
    "#Then, we can calculate the avg rating for one month ago for each stock\n",
    "\n",
    "avgRating1MonthAgo = []\n",
    "avgRating2MonthsAgo = []\n",
    "avgRating3MonthsAgo = []\n",
    "\n",
    "#for ratingFile in ratingsFiles:\n",
    "    \n",
    "    #remove current rating\n",
    "    #del ratingFile[0]\n",
    "    \n",
    "for ratingFile in ratingsFiles:\n",
    "    \n",
    "    avgRating = 0\n",
    "    xMonthAgo = 1\n",
    "    totalReviewers = 0\n",
    "    \n",
    "    #Aggreate the ratings for the month\n",
    "    #ratingFile.iloc[5 - rating][month]\n",
    "    for index in range(len(ratingFile)):\n",
    "        rating = 5 - index\n",
    "        reviewers = ratingFile.iloc[index][xMonthAgo]\n",
    "        totalReviewers += reviewers\n",
    "        avgRating += rating * reviewers\n",
    "        \n",
    "        #set reviewers to 0 for next iteration\n",
    "        reviewers = 0\n",
    "    avgRating /= float(totalReviewers)\n",
    "    avgRating1MonthAgo.append(avgRating)\n",
    "    \n",
    "for ratingFile in ratingsFiles:\n",
    "    \n",
    "    avgRating = 0\n",
    "    xMonthAgo = 2\n",
    "    totalReviewers = 0\n",
    "    \n",
    "    #Aggreate the ratings for the month\n",
    "    #ratingFile.iloc[5 - rating][month]\n",
    "    for index in range(len(ratingFile)):\n",
    "        rating = 5 - index\n",
    "        reviewers = ratingFile.iloc[index][xMonthAgo]\n",
    "        totalReviewers += reviewers\n",
    "        avgRating += rating * reviewers\n",
    "        \n",
    "        #set reviewers to 0 for next iteration\n",
    "        reviewers = 0\n",
    "    avgRating /= float(totalReviewers)\n",
    "    avgRating2MonthsAgo.append(avgRating)\n",
    " \n",
    "#And for the third month ago\n",
    "for ratingFile in ratingsFiles:\n",
    "    \n",
    "    avgRating = 0\n",
    "    xMonthAgo = 3\n",
    "    totalReviewers = 0\n",
    "    \n",
    "    #Aggreate the ratings for the month\n",
    "    #ratingFile.iloc[5 - rating][month]\n",
    "    for index in range(len(ratingFile)):\n",
    "        rating = 5 - index\n",
    "        reviewers = ratingFile.iloc[index][xMonthAgo]\n",
    "        totalReviewers += reviewers\n",
    "        avgRating += rating * reviewers\n",
    "        \n",
    "        #set reviewers to 0 for next iteration\n",
    "        reviewers = 0\n",
    "    avgRating /= float(totalReviewers)\n",
    "    avgRating3MonthsAgo.append(avgRating)\n",
    "    "
   ]
  },
  {
   "cell_type": "code",
   "execution_count": null,
   "metadata": {},
   "outputs": [],
   "source": []
  }
 ],
 "metadata": {
  "kernelspec": {
   "display_name": "Python 2",
   "language": "python",
   "name": "python2"
  },
  "language_info": {
   "codemirror_mode": {
    "name": "ipython",
    "version": 2
   },
   "file_extension": ".py",
   "mimetype": "text/x-python",
   "name": "python",
   "nbconvert_exporter": "python",
   "pygments_lexer": "ipython2",
   "version": "2.7.14"
  }
 },
 "nbformat": 4,
 "nbformat_minor": 2
}
