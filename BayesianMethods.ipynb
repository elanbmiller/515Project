{
 "cells": [
  {
   "cell_type": "code",
   "execution_count": 47,
   "metadata": {},
   "outputs": [],
   "source": [
    "import pandas as pd\n",
    "import numpy as np\n",
    "import glob\n",
    "import datetime as dt\n",
    "import pandas_datareader.data as web\n",
    "import quandl"
   ]
  },
  {
   "cell_type": "code",
   "execution_count": 48,
   "metadata": {},
   "outputs": [],
   "source": [
    "data_folder = \"data\"\n",
    "csvDataFiles = glob.glob(data_folder + \"/*.csv\")\n",
    "dataFiles = []\n",
    "for dataFile in csvDataFiles:\n",
    "    df = pd.read_csv(dataFile)\n",
    "    dataFiles.append(df)"
   ]
  },
  {
   "cell_type": "code",
   "execution_count": 49,
   "metadata": {},
   "outputs": [
    {
     "name": "stdout",
     "output_type": "stream",
     "text": [
      "30\n"
     ]
    }
   ],
   "source": [
    "#The number of stocks we have in our data folder\n",
    "print(len(dataFiles))"
   ]
  },
  {
   "cell_type": "code",
   "execution_count": 50,
   "metadata": {},
   "outputs": [
    {
     "data": {
      "text/html": [
       "<div>\n",
       "<style scoped>\n",
       "    .dataframe tbody tr th:only-of-type {\n",
       "        vertical-align: middle;\n",
       "    }\n",
       "\n",
       "    .dataframe tbody tr th {\n",
       "        vertical-align: top;\n",
       "    }\n",
       "\n",
       "    .dataframe thead th {\n",
       "        text-align: right;\n",
       "    }\n",
       "</style>\n",
       "<table border=\"1\" class=\"dataframe\">\n",
       "  <thead>\n",
       "    <tr style=\"text-align: right;\">\n",
       "      <th></th>\n",
       "      <th>Date</th>\n",
       "      <th>Open</th>\n",
       "      <th>High</th>\n",
       "      <th>Low</th>\n",
       "      <th>Close</th>\n",
       "      <th>Adj Close</th>\n",
       "      <th>Volume</th>\n",
       "    </tr>\n",
       "  </thead>\n",
       "  <tbody>\n",
       "    <tr>\n",
       "      <th>0</th>\n",
       "      <td>2017-10-02</td>\n",
       "      <td>52.160000</td>\n",
       "      <td>52.209999</td>\n",
       "      <td>51.660000</td>\n",
       "      <td>51.869999</td>\n",
       "      <td>51.542397</td>\n",
       "      <td>7516200</td>\n",
       "    </tr>\n",
       "    <tr>\n",
       "      <th>1</th>\n",
       "      <td>2017-10-03</td>\n",
       "      <td>52.000000</td>\n",
       "      <td>52.049999</td>\n",
       "      <td>51.400002</td>\n",
       "      <td>51.470001</td>\n",
       "      <td>51.144924</td>\n",
       "      <td>8126700</td>\n",
       "    </tr>\n",
       "    <tr>\n",
       "      <th>2</th>\n",
       "      <td>2017-10-04</td>\n",
       "      <td>51.509998</td>\n",
       "      <td>52.130001</td>\n",
       "      <td>51.400002</td>\n",
       "      <td>52.080002</td>\n",
       "      <td>51.751072</td>\n",
       "      <td>8204300</td>\n",
       "    </tr>\n",
       "    <tr>\n",
       "      <th>3</th>\n",
       "      <td>2017-10-05</td>\n",
       "      <td>52.009998</td>\n",
       "      <td>52.320000</td>\n",
       "      <td>51.779999</td>\n",
       "      <td>52.180000</td>\n",
       "      <td>51.850441</td>\n",
       "      <td>5287400</td>\n",
       "    </tr>\n",
       "    <tr>\n",
       "      <th>4</th>\n",
       "      <td>2017-10-06</td>\n",
       "      <td>52.200001</td>\n",
       "      <td>52.459999</td>\n",
       "      <td>52.119999</td>\n",
       "      <td>52.419998</td>\n",
       "      <td>52.088921</td>\n",
       "      <td>5360300</td>\n",
       "    </tr>\n",
       "  </tbody>\n",
       "</table>\n",
       "</div>"
      ],
      "text/plain": [
       "         Date       Open       High        Low      Close  Adj Close   Volume\n",
       "0  2017-10-02  52.160000  52.209999  51.660000  51.869999  51.542397  7516200\n",
       "1  2017-10-03  52.000000  52.049999  51.400002  51.470001  51.144924  8126700\n",
       "2  2017-10-04  51.509998  52.130001  51.400002  52.080002  51.751072  8204300\n",
       "3  2017-10-05  52.009998  52.320000  51.779999  52.180000  51.850441  5287400\n",
       "4  2017-10-06  52.200001  52.459999  52.119999  52.419998  52.088921  5360300"
      ]
     },
     "execution_count": 50,
     "metadata": {},
     "output_type": "execute_result"
    }
   ],
   "source": [
    "#This is what our data looks like\n",
    "dataFiles[0].head()"
   ]
  },
  {
   "cell_type": "code",
   "execution_count": 51,
   "metadata": {},
   "outputs": [
    {
     "data": {
      "text/html": [
       "<div>\n",
       "<style scoped>\n",
       "    .dataframe tbody tr th:only-of-type {\n",
       "        vertical-align: middle;\n",
       "    }\n",
       "\n",
       "    .dataframe tbody tr th {\n",
       "        vertical-align: top;\n",
       "    }\n",
       "\n",
       "    .dataframe thead th {\n",
       "        text-align: right;\n",
       "    }\n",
       "</style>\n",
       "<table border=\"1\" class=\"dataframe\">\n",
       "  <thead>\n",
       "    <tr style=\"text-align: right;\">\n",
       "      <th></th>\n",
       "      <th>Date</th>\n",
       "      <th>Open</th>\n",
       "      <th>High</th>\n",
       "      <th>Low</th>\n",
       "      <th>Close</th>\n",
       "      <th>Adj Close</th>\n",
       "      <th>Volume</th>\n",
       "    </tr>\n",
       "  </thead>\n",
       "  <tbody>\n",
       "    <tr>\n",
       "      <th>119</th>\n",
       "      <td>2018-03-23</td>\n",
       "      <td>66.699997</td>\n",
       "      <td>67.110001</td>\n",
       "      <td>64.459999</td>\n",
       "      <td>64.629997</td>\n",
       "      <td>64.629997</td>\n",
       "      <td>17343800</td>\n",
       "    </tr>\n",
       "    <tr>\n",
       "      <th>120</th>\n",
       "      <td>2018-03-26</td>\n",
       "      <td>65.080002</td>\n",
       "      <td>66.059998</td>\n",
       "      <td>64.989998</td>\n",
       "      <td>65.900002</td>\n",
       "      <td>65.900002</td>\n",
       "      <td>10796000</td>\n",
       "    </tr>\n",
       "    <tr>\n",
       "      <th>121</th>\n",
       "      <td>2018-03-27</td>\n",
       "      <td>65.889999</td>\n",
       "      <td>67.639999</td>\n",
       "      <td>65.430000</td>\n",
       "      <td>66.169998</td>\n",
       "      <td>66.169998</td>\n",
       "      <td>9452500</td>\n",
       "    </tr>\n",
       "    <tr>\n",
       "      <th>122</th>\n",
       "      <td>2018-03-28</td>\n",
       "      <td>66.589996</td>\n",
       "      <td>67.150002</td>\n",
       "      <td>65.269997</td>\n",
       "      <td>65.440002</td>\n",
       "      <td>65.440002</td>\n",
       "      <td>7208400</td>\n",
       "    </tr>\n",
       "    <tr>\n",
       "      <th>123</th>\n",
       "      <td>2018-03-29</td>\n",
       "      <td>65.699997</td>\n",
       "      <td>66.550003</td>\n",
       "      <td>65.610001</td>\n",
       "      <td>66.440002</td>\n",
       "      <td>66.440002</td>\n",
       "      <td>10405800</td>\n",
       "    </tr>\n",
       "  </tbody>\n",
       "</table>\n",
       "</div>"
      ],
      "text/plain": [
       "           Date       Open       High        Low      Close  Adj Close  \\\n",
       "119  2018-03-23  66.699997  67.110001  64.459999  64.629997  64.629997   \n",
       "120  2018-03-26  65.080002  66.059998  64.989998  65.900002  65.900002   \n",
       "121  2018-03-27  65.889999  67.639999  65.430000  66.169998  66.169998   \n",
       "122  2018-03-28  66.589996  67.150002  65.269997  65.440002  65.440002   \n",
       "123  2018-03-29  65.699997  66.550003  65.610001  66.440002  66.440002   \n",
       "\n",
       "       Volume  \n",
       "119  17343800  \n",
       "120  10796000  \n",
       "121   9452500  \n",
       "122   7208400  \n",
       "123  10405800  "
      ]
     },
     "execution_count": 51,
     "metadata": {},
     "output_type": "execute_result"
    }
   ],
   "source": [
    "#This is what the end of the data looks like\n",
    "#We can see it goes from 10/2/17 - 03/29/18\n",
    "dataFiles[0].tail()"
   ]
  },
  {
   "cell_type": "code",
   "execution_count": 52,
   "metadata": {},
   "outputs": [
    {
     "data": {
      "text/plain": [
       "(124, 7)"
      ]
     },
     "execution_count": 52,
     "metadata": {},
     "output_type": "execute_result"
    }
   ],
   "source": [
    "#The dimensions of the stock data -- 124 rows and 7 columns\n",
    "dataFiles[0].shape"
   ]
  },
  {
   "cell_type": "code",
   "execution_count": 53,
   "metadata": {},
   "outputs": [],
   "source": [
    "#Lets store the ratings in a form we can understand\n",
    "ratings_folder = \"Ratings\"\n",
    "xlsxRatingFiles = glob.glob(ratings_folder + \"/*.xlsx\")\n",
    "ratingsFiles = []\n",
    "for ratingFile in xlsxRatingFiles:\n",
    "    rf = pd.ExcelFile(ratingFile)\n",
    "    ratingsFiles.append(rf.parse())"
   ]
  },
  {
   "cell_type": "code",
   "execution_count": 54,
   "metadata": {},
   "outputs": [
    {
     "name": "stdout",
     "output_type": "stream",
     "text": [
      "30\n"
     ]
    }
   ],
   "source": [
    "#The number of ratings files we have in our ratings folder\n",
    "print(len(ratingsFiles))"
   ]
  },
  {
   "cell_type": "code",
   "execution_count": 55,
   "metadata": {},
   "outputs": [
    {
     "data": {
      "text/html": [
       "<div>\n",
       "<style scoped>\n",
       "    .dataframe tbody tr th:only-of-type {\n",
       "        vertical-align: middle;\n",
       "    }\n",
       "\n",
       "    .dataframe tbody tr th {\n",
       "        vertical-align: top;\n",
       "    }\n",
       "\n",
       "    .dataframe thead th {\n",
       "        text-align: right;\n",
       "    }\n",
       "</style>\n",
       "<table border=\"1\" class=\"dataframe\">\n",
       "  <thead>\n",
       "    <tr style=\"text-align: right;\">\n",
       "      <th></th>\n",
       "      <th>0</th>\n",
       "      <th>1</th>\n",
       "      <th>2</th>\n",
       "      <th>3</th>\n",
       "    </tr>\n",
       "  </thead>\n",
       "  <tbody>\n",
       "    <tr>\n",
       "      <th>5</th>\n",
       "      <td>1</td>\n",
       "      <td>1</td>\n",
       "      <td>1</td>\n",
       "      <td>1</td>\n",
       "    </tr>\n",
       "    <tr>\n",
       "      <th>4</th>\n",
       "      <td>0</td>\n",
       "      <td>0</td>\n",
       "      <td>0</td>\n",
       "      <td>0</td>\n",
       "    </tr>\n",
       "    <tr>\n",
       "      <th>3</th>\n",
       "      <td>7</td>\n",
       "      <td>7</td>\n",
       "      <td>7</td>\n",
       "      <td>7</td>\n",
       "    </tr>\n",
       "    <tr>\n",
       "      <th>2</th>\n",
       "      <td>0</td>\n",
       "      <td>0</td>\n",
       "      <td>0</td>\n",
       "      <td>0</td>\n",
       "    </tr>\n",
       "    <tr>\n",
       "      <th>1</th>\n",
       "      <td>0</td>\n",
       "      <td>0</td>\n",
       "      <td>0</td>\n",
       "      <td>0</td>\n",
       "    </tr>\n",
       "  </tbody>\n",
       "</table>\n",
       "</div>"
      ],
      "text/plain": [
       "   0  1  2  3\n",
       "5  1  1  1  1\n",
       "4  0  0  0  0\n",
       "3  7  7  7  7\n",
       "2  0  0  0  0\n",
       "1  0  0  0  0"
      ]
     },
     "execution_count": 55,
     "metadata": {},
     "output_type": "execute_result"
    }
   ],
   "source": [
    "#This is what our ratings look like\n",
    "ratingsFiles[0].head()"
   ]
  },
  {
   "cell_type": "code",
   "execution_count": 56,
   "metadata": {},
   "outputs": [
    {
     "data": {
      "text/plain": [
       "(5, 4)"
      ]
     },
     "execution_count": 56,
     "metadata": {},
     "output_type": "execute_result"
    }
   ],
   "source": [
    "#The dimensions of the ratings data -- 5 rows and 4 columns\n",
    "ratingsFiles[0].shape"
   ]
  },
  {
   "cell_type": "code",
   "execution_count": 58,
   "metadata": {},
   "outputs": [
    {
     "data": {
      "text/html": [
       "<div>\n",
       "<style scoped>\n",
       "    .dataframe tbody tr th:only-of-type {\n",
       "        vertical-align: middle;\n",
       "    }\n",
       "\n",
       "    .dataframe tbody tr th {\n",
       "        vertical-align: top;\n",
       "    }\n",
       "\n",
       "    .dataframe thead th {\n",
       "        text-align: right;\n",
       "    }\n",
       "</style>\n",
       "<table border=\"1\" class=\"dataframe\">\n",
       "  <thead>\n",
       "    <tr style=\"text-align: right;\">\n",
       "      <th></th>\n",
       "      <th>Index Value</th>\n",
       "      <th>High</th>\n",
       "      <th>Low</th>\n",
       "      <th>Total Market Value</th>\n",
       "      <th>Dividend Market Value</th>\n",
       "    </tr>\n",
       "    <tr>\n",
       "      <th>Trade Date</th>\n",
       "      <th></th>\n",
       "      <th></th>\n",
       "      <th></th>\n",
       "      <th></th>\n",
       "      <th></th>\n",
       "    </tr>\n",
       "  </thead>\n",
       "  <tbody>\n",
       "    <tr>\n",
       "      <th>2018-02-28</th>\n",
       "      <td>7273.01</td>\n",
       "      <td>7386.80</td>\n",
       "      <td>7273.01</td>\n",
       "      <td>1.110604e+13</td>\n",
       "      <td>5.602250e+08</td>\n",
       "    </tr>\n",
       "    <tr>\n",
       "      <th>2018-03-01</th>\n",
       "      <td>7180.56</td>\n",
       "      <td>7307.84</td>\n",
       "      <td>7117.66</td>\n",
       "      <td>1.096433e+13</td>\n",
       "      <td>1.412534e+09</td>\n",
       "    </tr>\n",
       "    <tr>\n",
       "      <th>2018-03-02</th>\n",
       "      <td>7257.87</td>\n",
       "      <td>7267.19</td>\n",
       "      <td>7084.83</td>\n",
       "      <td>1.108254e+13</td>\n",
       "      <td>5.519555e+08</td>\n",
       "    </tr>\n",
       "    <tr>\n",
       "      <th>2018-03-05</th>\n",
       "      <td>7330.70</td>\n",
       "      <td>7350.07</td>\n",
       "      <td>7205.31</td>\n",
       "      <td>1.119375e+13</td>\n",
       "      <td>2.423415e+07</td>\n",
       "    </tr>\n",
       "    <tr>\n",
       "      <th>2018-03-06</th>\n",
       "      <td>7372.01</td>\n",
       "      <td>7378.03</td>\n",
       "      <td>7319.68</td>\n",
       "      <td>1.125703e+13</td>\n",
       "      <td>1.519576e+08</td>\n",
       "    </tr>\n",
       "  </tbody>\n",
       "</table>\n",
       "</div>"
      ],
      "text/plain": [
       "            Index Value     High      Low  Total Market Value  \\\n",
       "Trade Date                                                      \n",
       "2018-02-28      7273.01  7386.80  7273.01        1.110604e+13   \n",
       "2018-03-01      7180.56  7307.84  7117.66        1.096433e+13   \n",
       "2018-03-02      7257.87  7267.19  7084.83        1.108254e+13   \n",
       "2018-03-05      7330.70  7350.07  7205.31        1.119375e+13   \n",
       "2018-03-06      7372.01  7378.03  7319.68        1.125703e+13   \n",
       "\n",
       "            Dividend Market Value  \n",
       "Trade Date                         \n",
       "2018-02-28           5.602250e+08  \n",
       "2018-03-01           1.412534e+09  \n",
       "2018-03-02           5.519555e+08  \n",
       "2018-03-05           2.423415e+07  \n",
       "2018-03-06           1.519576e+08  "
      ]
     },
     "execution_count": 58,
     "metadata": {},
     "output_type": "execute_result"
    }
   ],
   "source": [
    "#Let's now find the stock market returns for each of the last 3 months of our data\n",
    "#as these are the months that we have ratings for\n",
    "start3MonthsAgo = dt.datetime(2017, 12, 29)\n",
    "end2MonthsAgo = dt.datetime(2018, 1, 29)\n",
    "\n",
    "start2MonthsAgo = end2MonthsAgo\n",
    "end1MonthAgo = dt.datetime(2018, 2, 28)\n",
    "\n",
    "start1MonthAgo = end1MonthAgo\n",
    "end1MonthAgo = dt.datetime(2018, 3, 29)\n",
    "\n",
    "nasdaqData1MonthAgo = quandl.get(\"NASDAQOMX/COMP-NASDAQ\", trim_start=start1MonthAgo, trim_end=end1MonthAgo)\n",
    "\n",
    "#Don't execute the next 2 lines until later, otherwise the API will be overloaded and block you\n",
    "#nasdaqData2MonthsAgo = quandl.get(\"NASDAQOMX/COMP-NASDAQ\", trim_start=end2MonthsAgo, trim_end=end1MonthAgo)\n",
    "#nasdaqData3MonthsAgo = quandl.get(\"NASDAQOMX/COMP-NASDAQ\", trim_start=start3MonthsAgo, trim_end=end2MonthsAgo)\n",
    "\n",
    "#Let's see what our data looks like\n",
    "nasdaqData1MonthAgo.head()"
   ]
  },
  {
   "cell_type": "code",
   "execution_count": 59,
   "metadata": {},
   "outputs": [
    {
     "data": {
      "text/html": [
       "<div>\n",
       "<style scoped>\n",
       "    .dataframe tbody tr th:only-of-type {\n",
       "        vertical-align: middle;\n",
       "    }\n",
       "\n",
       "    .dataframe tbody tr th {\n",
       "        vertical-align: top;\n",
       "    }\n",
       "\n",
       "    .dataframe thead th {\n",
       "        text-align: right;\n",
       "    }\n",
       "</style>\n",
       "<table border=\"1\" class=\"dataframe\">\n",
       "  <thead>\n",
       "    <tr style=\"text-align: right;\">\n",
       "      <th></th>\n",
       "      <th>Index Value</th>\n",
       "    </tr>\n",
       "    <tr>\n",
       "      <th>Trade Date</th>\n",
       "      <th></th>\n",
       "    </tr>\n",
       "  </thead>\n",
       "  <tbody>\n",
       "    <tr>\n",
       "      <th>2018-02-28</th>\n",
       "      <td>7273.01</td>\n",
       "    </tr>\n",
       "    <tr>\n",
       "      <th>2018-03-01</th>\n",
       "      <td>7180.56</td>\n",
       "    </tr>\n",
       "    <tr>\n",
       "      <th>2018-03-02</th>\n",
       "      <td>7257.87</td>\n",
       "    </tr>\n",
       "    <tr>\n",
       "      <th>2018-03-05</th>\n",
       "      <td>7330.70</td>\n",
       "    </tr>\n",
       "    <tr>\n",
       "      <th>2018-03-06</th>\n",
       "      <td>7372.01</td>\n",
       "    </tr>\n",
       "  </tbody>\n",
       "</table>\n",
       "</div>"
      ],
      "text/plain": [
       "            Index Value\n",
       "Trade Date             \n",
       "2018-02-28      7273.01\n",
       "2018-03-01      7180.56\n",
       "2018-03-02      7257.87\n",
       "2018-03-05      7330.70\n",
       "2018-03-06      7372.01"
      ]
     },
     "execution_count": 59,
     "metadata": {},
     "output_type": "execute_result"
    }
   ],
   "source": [
    "#Lets drop everything but the index value as that's all we will care about\n",
    "nasdaqData1MonthAgo = nasdaqData1MonthAgo[['Index Value']]\n",
    "nasdaqData1MonthAgo.head()"
   ]
  },
  {
   "cell_type": "code",
   "execution_count": 61,
   "metadata": {},
   "outputs": [
    {
     "name": "stdout",
     "output_type": "stream",
     "text": [
      "-0.02881475482640621\n"
     ]
    }
   ],
   "source": [
    "firstDay = 0\n",
    "initPrice = nasdaqData1MonthAgo.iloc[firstDay]['Index Value']\n",
    "\n",
    "lastDay = nasdaqData1MonthAgo.shape[0] - 1\n",
    "finalPrice = nasdaqData1MonthAgo.iloc[lastDay]['Index Value']\n",
    "\n",
    "#Market growth\n",
    "oneMonthAgoROI = (finalPrice - initPrice) / initPrice\n",
    "print(oneMonthAgoROI)"
   ]
  },
  {
   "cell_type": "code",
   "execution_count": 63,
   "metadata": {},
   "outputs": [
    {
     "name": "stdout",
     "output_type": "stream",
     "text": [
      "-0.05398372197988091\n"
     ]
    }
   ],
   "source": [
    "#Let's do the same thing for the 2 earlier months\n",
    "nasdaqData2MonthsAgo = quandl.get(\"NASDAQOMX/COMP-NASDAQ\", trim_start=end2MonthsAgo, trim_end=end1MonthAgo)\n",
    "nasdaqData2MonthsAgo = nasdaqData2MonthAgo[['Index Value']]\n",
    "\n",
    "firstDay = 0\n",
    "initPrice = nasdaqData2MonthsAgo.iloc[firstDay]['Index Value']\n",
    "\n",
    "lastDay = nasdaqData2MonthsAgo.shape[0] - 1\n",
    "finalPrice = nasdaqData2MonthsAgo.iloc[lastDay]['Index Value']\n",
    "\n",
    "#Market growth\n",
    "twoMonthsAgoROI = (finalPrice - initPrice) / initPrice\n",
    "print(twoMonthsAgoROI)"
   ]
  },
  {
   "cell_type": "code",
   "execution_count": 65,
   "metadata": {},
   "outputs": [
    {
     "name": "stdout",
     "output_type": "stream",
     "text": [
      "0.0815715177615635\n"
     ]
    }
   ],
   "source": [
    "#And for 3rd month ago\n",
    "nasdaqData3MonthsAgo = quandl.get(\"NASDAQOMX/COMP-NASDAQ\", trim_start=start3MonthsAgo, trim_end=end2MonthsAgo)\n",
    "nasdaqData23MonthsAgo = nasdaqData3MonthsAgo[['Index Value']]\n",
    "\n",
    "firstDay = 0\n",
    "initPrice = nasdaqData3MonthsAgo.iloc[firstDay]['Index Value']\n",
    "\n",
    "lastDay = nasdaqData3MonthsAgo.shape[0] - 1\n",
    "finalPrice = nasdaqData3MonthsAgo.iloc[lastDay]['Index Value']\n",
    "\n",
    "#Market growth\n",
    "threeMonthsAgoROI = (finalPrice - initPrice) / initPrice\n",
    "print(threeMonthsAgoROI)"
   ]
  },
  {
   "cell_type": "code",
   "execution_count": null,
   "metadata": {},
   "outputs": [],
   "source": []
  }
 ],
 "metadata": {
  "kernelspec": {
   "display_name": "Python 2",
   "language": "python",
   "name": "python2"
  },
  "language_info": {
   "codemirror_mode": {
    "name": "ipython",
    "version": 2
   },
   "file_extension": ".py",
   "mimetype": "text/x-python",
   "name": "python",
   "nbconvert_exporter": "python",
   "pygments_lexer": "ipython2",
   "version": "2.7.14"
  }
 },
 "nbformat": 4,
 "nbformat_minor": 2
}
