{
 "cells": [
  {
   "cell_type": "code",
   "execution_count": 153,
   "metadata": {},
   "outputs": [],
   "source": [
    "import pandas as pd\n",
    "import numpy as np\n",
    "import glob\n",
    "import datetime as dt\n",
    "import pandas_datareader.data as web\n",
    "import quandl"
   ]
  },
  {
   "cell_type": "code",
   "execution_count": 154,
   "metadata": {},
   "outputs": [],
   "source": [
    "data_folder = \"data\"\n",
    "csvDataFiles = sorted(glob.glob(data_folder + \"/*.csv\"))\n",
    "dataFiles = []\n",
    "for dataFile in csvDataFiles:\n",
    "    df = pd.read_csv(dataFile)\n",
    "    dataFiles.append(df)"
   ]
  },
  {
   "cell_type": "code",
   "execution_count": 155,
   "metadata": {},
   "outputs": [
    {
     "name": "stdout",
     "output_type": "stream",
     "text": [
      "30\n"
     ]
    }
   ],
   "source": [
    "#The number of stocks we have in our data folder\n",
    "print(len(dataFiles))"
   ]
  },
  {
   "cell_type": "code",
   "execution_count": 156,
   "metadata": {},
   "outputs": [
    {
     "data": {
      "text/html": [
       "<div>\n",
       "<style scoped>\n",
       "    .dataframe tbody tr th:only-of-type {\n",
       "        vertical-align: middle;\n",
       "    }\n",
       "\n",
       "    .dataframe tbody tr th {\n",
       "        vertical-align: top;\n",
       "    }\n",
       "\n",
       "    .dataframe thead th {\n",
       "        text-align: right;\n",
       "    }\n",
       "</style>\n",
       "<table border=\"1\" class=\"dataframe\">\n",
       "  <thead>\n",
       "    <tr style=\"text-align: right;\">\n",
       "      <th></th>\n",
       "      <th>Date</th>\n",
       "      <th>Open</th>\n",
       "      <th>High</th>\n",
       "      <th>Low</th>\n",
       "      <th>Close</th>\n",
       "      <th>Adj Close</th>\n",
       "      <th>Volume</th>\n",
       "    </tr>\n",
       "  </thead>\n",
       "  <tbody>\n",
       "    <tr>\n",
       "      <th>0</th>\n",
       "      <td>10/2/2017</td>\n",
       "      <td>154.259995</td>\n",
       "      <td>154.449997</td>\n",
       "      <td>152.720001</td>\n",
       "      <td>153.809998</td>\n",
       "      <td>152.636734</td>\n",
       "      <td>18698800</td>\n",
       "    </tr>\n",
       "    <tr>\n",
       "      <th>1</th>\n",
       "      <td>10/3/2017</td>\n",
       "      <td>154.009995</td>\n",
       "      <td>155.089996</td>\n",
       "      <td>153.910004</td>\n",
       "      <td>154.479996</td>\n",
       "      <td>153.301620</td>\n",
       "      <td>16230300</td>\n",
       "    </tr>\n",
       "    <tr>\n",
       "      <th>2</th>\n",
       "      <td>10/4/2017</td>\n",
       "      <td>153.630005</td>\n",
       "      <td>153.860001</td>\n",
       "      <td>152.460007</td>\n",
       "      <td>153.479996</td>\n",
       "      <td>152.309250</td>\n",
       "      <td>20163800</td>\n",
       "    </tr>\n",
       "    <tr>\n",
       "      <th>3</th>\n",
       "      <td>10/5/2017</td>\n",
       "      <td>154.179993</td>\n",
       "      <td>155.440002</td>\n",
       "      <td>154.050003</td>\n",
       "      <td>155.389999</td>\n",
       "      <td>154.204681</td>\n",
       "      <td>21283800</td>\n",
       "    </tr>\n",
       "    <tr>\n",
       "      <th>4</th>\n",
       "      <td>10/6/2017</td>\n",
       "      <td>154.970001</td>\n",
       "      <td>155.490005</td>\n",
       "      <td>154.559998</td>\n",
       "      <td>155.300003</td>\n",
       "      <td>154.115372</td>\n",
       "      <td>17407600</td>\n",
       "    </tr>\n",
       "  </tbody>\n",
       "</table>\n",
       "</div>"
      ],
      "text/plain": [
       "        Date        Open        High         Low       Close   Adj Close  \\\n",
       "0  10/2/2017  154.259995  154.449997  152.720001  153.809998  152.636734   \n",
       "1  10/3/2017  154.009995  155.089996  153.910004  154.479996  153.301620   \n",
       "2  10/4/2017  153.630005  153.860001  152.460007  153.479996  152.309250   \n",
       "3  10/5/2017  154.179993  155.440002  154.050003  155.389999  154.204681   \n",
       "4  10/6/2017  154.970001  155.490005  154.559998  155.300003  154.115372   \n",
       "\n",
       "     Volume  \n",
       "0  18698800  \n",
       "1  16230300  \n",
       "2  20163800  \n",
       "3  21283800  \n",
       "4  17407600  "
      ]
     },
     "execution_count": 156,
     "metadata": {},
     "output_type": "execute_result"
    }
   ],
   "source": [
    "#This is what our data looks like\n",
    "dataFiles[0].head()"
   ]
  },
  {
   "cell_type": "code",
   "execution_count": 157,
   "metadata": {},
   "outputs": [
    {
     "data": {
      "text/html": [
       "<div>\n",
       "<style scoped>\n",
       "    .dataframe tbody tr th:only-of-type {\n",
       "        vertical-align: middle;\n",
       "    }\n",
       "\n",
       "    .dataframe tbody tr th {\n",
       "        vertical-align: top;\n",
       "    }\n",
       "\n",
       "    .dataframe thead th {\n",
       "        text-align: right;\n",
       "    }\n",
       "</style>\n",
       "<table border=\"1\" class=\"dataframe\">\n",
       "  <thead>\n",
       "    <tr style=\"text-align: right;\">\n",
       "      <th></th>\n",
       "      <th>Date</th>\n",
       "      <th>Open</th>\n",
       "      <th>High</th>\n",
       "      <th>Low</th>\n",
       "      <th>Close</th>\n",
       "      <th>Adj Close</th>\n",
       "      <th>Volume</th>\n",
       "    </tr>\n",
       "  </thead>\n",
       "  <tbody>\n",
       "    <tr>\n",
       "      <th>119</th>\n",
       "      <td>3/23/2018</td>\n",
       "      <td>168.389999</td>\n",
       "      <td>169.919998</td>\n",
       "      <td>164.940002</td>\n",
       "      <td>164.940002</td>\n",
       "      <td>164.940002</td>\n",
       "      <td>41028800</td>\n",
       "    </tr>\n",
       "    <tr>\n",
       "      <th>120</th>\n",
       "      <td>3/26/2018</td>\n",
       "      <td>168.070007</td>\n",
       "      <td>173.100006</td>\n",
       "      <td>166.440002</td>\n",
       "      <td>172.770004</td>\n",
       "      <td>172.770004</td>\n",
       "      <td>37541200</td>\n",
       "    </tr>\n",
       "    <tr>\n",
       "      <th>121</th>\n",
       "      <td>3/27/2018</td>\n",
       "      <td>173.679993</td>\n",
       "      <td>175.149994</td>\n",
       "      <td>166.919998</td>\n",
       "      <td>168.339996</td>\n",
       "      <td>168.339996</td>\n",
       "      <td>40922600</td>\n",
       "    </tr>\n",
       "    <tr>\n",
       "      <th>122</th>\n",
       "      <td>3/28/2018</td>\n",
       "      <td>167.250000</td>\n",
       "      <td>170.020004</td>\n",
       "      <td>165.190002</td>\n",
       "      <td>166.479996</td>\n",
       "      <td>166.479996</td>\n",
       "      <td>41668500</td>\n",
       "    </tr>\n",
       "    <tr>\n",
       "      <th>123</th>\n",
       "      <td>3/29/2018</td>\n",
       "      <td>167.809998</td>\n",
       "      <td>171.750000</td>\n",
       "      <td>166.899994</td>\n",
       "      <td>167.779999</td>\n",
       "      <td>167.779999</td>\n",
       "      <td>38398500</td>\n",
       "    </tr>\n",
       "  </tbody>\n",
       "</table>\n",
       "</div>"
      ],
      "text/plain": [
       "          Date        Open        High         Low       Close   Adj Close  \\\n",
       "119  3/23/2018  168.389999  169.919998  164.940002  164.940002  164.940002   \n",
       "120  3/26/2018  168.070007  173.100006  166.440002  172.770004  172.770004   \n",
       "121  3/27/2018  173.679993  175.149994  166.919998  168.339996  168.339996   \n",
       "122  3/28/2018  167.250000  170.020004  165.190002  166.479996  166.479996   \n",
       "123  3/29/2018  167.809998  171.750000  166.899994  167.779999  167.779999   \n",
       "\n",
       "       Volume  \n",
       "119  41028800  \n",
       "120  37541200  \n",
       "121  40922600  \n",
       "122  41668500  \n",
       "123  38398500  "
      ]
     },
     "execution_count": 157,
     "metadata": {},
     "output_type": "execute_result"
    }
   ],
   "source": [
    "#This is what the end of the data looks like\n",
    "#We can see it goes from 10/2/17 - 03/29/18\n",
    "dataFiles[0].tail()"
   ]
  },
  {
   "cell_type": "code",
   "execution_count": 158,
   "metadata": {},
   "outputs": [
    {
     "data": {
      "text/plain": [
       "(124, 7)"
      ]
     },
     "execution_count": 158,
     "metadata": {},
     "output_type": "execute_result"
    }
   ],
   "source": [
    "#The dimensions of the stock data -- 124 rows and 7 columns\n",
    "dataFiles[0].shape"
   ]
  },
  {
   "cell_type": "code",
   "execution_count": 159,
   "metadata": {},
   "outputs": [],
   "source": [
    "#Lets store the ratings in a form we can understand\n",
    "ratings_folder = \"Ratings\"\n",
    "xlsxRatingFiles = sorted(glob.glob(ratings_folder + \"/*.xlsx\"))\n",
    "ratingsFiles = []\n",
    "for ratingFile in xlsxRatingFiles:\n",
    "    rf = pd.ExcelFile(ratingFile)\n",
    "    ratingsFiles.append(rf.parse())"
   ]
  },
  {
   "cell_type": "code",
   "execution_count": 160,
   "metadata": {},
   "outputs": [
    {
     "name": "stdout",
     "output_type": "stream",
     "text": [
      "30\n"
     ]
    }
   ],
   "source": [
    "#The number of ratings files we have in our ratings folder\n",
    "print(len(ratingsFiles))"
   ]
  },
  {
   "cell_type": "code",
   "execution_count": 161,
   "metadata": {},
   "outputs": [
    {
     "data": {
      "text/html": [
       "<div>\n",
       "<style scoped>\n",
       "    .dataframe tbody tr th:only-of-type {\n",
       "        vertical-align: middle;\n",
       "    }\n",
       "\n",
       "    .dataframe tbody tr th {\n",
       "        vertical-align: top;\n",
       "    }\n",
       "\n",
       "    .dataframe thead th {\n",
       "        text-align: right;\n",
       "    }\n",
       "</style>\n",
       "<table border=\"1\" class=\"dataframe\">\n",
       "  <thead>\n",
       "    <tr style=\"text-align: right;\">\n",
       "      <th></th>\n",
       "      <th>0</th>\n",
       "      <th>1</th>\n",
       "      <th>2</th>\n",
       "      <th>3</th>\n",
       "    </tr>\n",
       "  </thead>\n",
       "  <tbody>\n",
       "    <tr>\n",
       "      <th>5</th>\n",
       "      <td>6</td>\n",
       "      <td>6</td>\n",
       "      <td>7</td>\n",
       "      <td>8</td>\n",
       "    </tr>\n",
       "    <tr>\n",
       "      <th>4</th>\n",
       "      <td>0</td>\n",
       "      <td>0</td>\n",
       "      <td>0</td>\n",
       "      <td>0</td>\n",
       "    </tr>\n",
       "    <tr>\n",
       "      <th>3</th>\n",
       "      <td>5</td>\n",
       "      <td>5</td>\n",
       "      <td>4</td>\n",
       "      <td>3</td>\n",
       "    </tr>\n",
       "    <tr>\n",
       "      <th>2</th>\n",
       "      <td>0</td>\n",
       "      <td>0</td>\n",
       "      <td>0</td>\n",
       "      <td>0</td>\n",
       "    </tr>\n",
       "    <tr>\n",
       "      <th>1</th>\n",
       "      <td>0</td>\n",
       "      <td>0</td>\n",
       "      <td>0</td>\n",
       "      <td>0</td>\n",
       "    </tr>\n",
       "  </tbody>\n",
       "</table>\n",
       "</div>"
      ],
      "text/plain": [
       "   0  1  2  3\n",
       "5  6  6  7  8\n",
       "4  0  0  0  0\n",
       "3  5  5  4  3\n",
       "2  0  0  0  0\n",
       "1  0  0  0  0"
      ]
     },
     "execution_count": 161,
     "metadata": {},
     "output_type": "execute_result"
    }
   ],
   "source": [
    "#This is what our ratings look like\n",
    "ratingsFiles[0].head()"
   ]
  },
  {
   "cell_type": "code",
   "execution_count": 162,
   "metadata": {},
   "outputs": [
    {
     "data": {
      "text/plain": [
       "(5, 4)"
      ]
     },
     "execution_count": 162,
     "metadata": {},
     "output_type": "execute_result"
    }
   ],
   "source": [
    "#The dimensions of the ratings data -- 5 rows and 4 columns\n",
    "ratingsFiles[0].shape"
   ]
  },
  {
   "cell_type": "code",
   "execution_count": 164,
   "metadata": {},
   "outputs": [
    {
     "data": {
      "text/html": [
       "<div>\n",
       "<style scoped>\n",
       "    .dataframe tbody tr th:only-of-type {\n",
       "        vertical-align: middle;\n",
       "    }\n",
       "\n",
       "    .dataframe tbody tr th {\n",
       "        vertical-align: top;\n",
       "    }\n",
       "\n",
       "    .dataframe thead th {\n",
       "        text-align: right;\n",
       "    }\n",
       "</style>\n",
       "<table border=\"1\" class=\"dataframe\">\n",
       "  <thead>\n",
       "    <tr style=\"text-align: right;\">\n",
       "      <th></th>\n",
       "      <th>Index Value</th>\n",
       "      <th>High</th>\n",
       "      <th>Low</th>\n",
       "      <th>Total Market Value</th>\n",
       "      <th>Dividend Market Value</th>\n",
       "    </tr>\n",
       "    <tr>\n",
       "      <th>Trade Date</th>\n",
       "      <th></th>\n",
       "      <th></th>\n",
       "      <th></th>\n",
       "      <th></th>\n",
       "      <th></th>\n",
       "    </tr>\n",
       "  </thead>\n",
       "  <tbody>\n",
       "    <tr>\n",
       "      <th>2018-03-01</th>\n",
       "      <td>7180.56</td>\n",
       "      <td>7307.84</td>\n",
       "      <td>7117.66</td>\n",
       "      <td>1.096433e+13</td>\n",
       "      <td>1.412534e+09</td>\n",
       "    </tr>\n",
       "    <tr>\n",
       "      <th>2018-03-02</th>\n",
       "      <td>7257.87</td>\n",
       "      <td>7267.19</td>\n",
       "      <td>7084.83</td>\n",
       "      <td>1.108254e+13</td>\n",
       "      <td>5.519555e+08</td>\n",
       "    </tr>\n",
       "    <tr>\n",
       "      <th>2018-03-05</th>\n",
       "      <td>7330.70</td>\n",
       "      <td>7350.07</td>\n",
       "      <td>7205.31</td>\n",
       "      <td>1.119375e+13</td>\n",
       "      <td>2.423415e+07</td>\n",
       "    </tr>\n",
       "    <tr>\n",
       "      <th>2018-03-06</th>\n",
       "      <td>7372.01</td>\n",
       "      <td>7378.03</td>\n",
       "      <td>7319.68</td>\n",
       "      <td>1.125703e+13</td>\n",
       "      <td>1.519576e+08</td>\n",
       "    </tr>\n",
       "    <tr>\n",
       "      <th>2018-03-07</th>\n",
       "      <td>7396.65</td>\n",
       "      <td>7403.79</td>\n",
       "      <td>7311.74</td>\n",
       "      <td>1.127635e+13</td>\n",
       "      <td>7.535249e+07</td>\n",
       "    </tr>\n",
       "  </tbody>\n",
       "</table>\n",
       "</div>"
      ],
      "text/plain": [
       "            Index Value     High      Low  Total Market Value  \\\n",
       "Trade Date                                                      \n",
       "2018-03-01      7180.56  7307.84  7117.66        1.096433e+13   \n",
       "2018-03-02      7257.87  7267.19  7084.83        1.108254e+13   \n",
       "2018-03-05      7330.70  7350.07  7205.31        1.119375e+13   \n",
       "2018-03-06      7372.01  7378.03  7319.68        1.125703e+13   \n",
       "2018-03-07      7396.65  7403.79  7311.74        1.127635e+13   \n",
       "\n",
       "            Dividend Market Value  \n",
       "Trade Date                         \n",
       "2018-03-01           1.412534e+09  \n",
       "2018-03-02           5.519555e+08  \n",
       "2018-03-05           2.423415e+07  \n",
       "2018-03-06           1.519576e+08  \n",
       "2018-03-07           7.535249e+07  "
      ]
     },
     "execution_count": 164,
     "metadata": {},
     "output_type": "execute_result"
    }
   ],
   "source": [
    "#Let's now find the stock market returns for each of the last 3 months of our data\n",
    "#as these are the months that we have ratings for\n",
    "start3MonthsAgo = dt.datetime(2018, 1, 1)\n",
    "end2MonthsAgo = dt.datetime(2018, 1, 31)\n",
    "\n",
    "start2MonthsAgo = dt.datetime(2018, 2, 1)\n",
    "end1MonthAgo = dt.datetime(2018, 2, 28)\n",
    "\n",
    "start1MonthAgo = dt.datetime(2018, 3, 1)\n",
    "end1MonthAgo = dt.datetime(2018, 3, 29)\n",
    "\n",
    "nasdaqData1MonthAgo = quandl.get(\"NASDAQOMX/COMP-NASDAQ\", trim_start=start1MonthAgo, trim_end=end1MonthAgo)\n",
    "\n",
    "#Don't execute the next 2 lines until later, otherwise the API will be overloaded and block you\n",
    "#nasdaqData2MonthsAgo = quandl.get(\"NASDAQOMX/COMP-NASDAQ\", trim_start=end2MonthsAgo, trim_end=end1MonthAgo)\n",
    "#nasdaqData3MonthsAgo = quandl.get(\"NASDAQOMX/COMP-NASDAQ\", trim_start=start3MonthsAgo, trim_end=end2MonthsAgo)\n",
    "\n",
    "#Let's see what our data looks like\n",
    "nasdaqData1MonthAgo.head()"
   ]
  },
  {
   "cell_type": "code",
   "execution_count": 165,
   "metadata": {},
   "outputs": [
    {
     "data": {
      "text/html": [
       "<div>\n",
       "<style scoped>\n",
       "    .dataframe tbody tr th:only-of-type {\n",
       "        vertical-align: middle;\n",
       "    }\n",
       "\n",
       "    .dataframe tbody tr th {\n",
       "        vertical-align: top;\n",
       "    }\n",
       "\n",
       "    .dataframe thead th {\n",
       "        text-align: right;\n",
       "    }\n",
       "</style>\n",
       "<table border=\"1\" class=\"dataframe\">\n",
       "  <thead>\n",
       "    <tr style=\"text-align: right;\">\n",
       "      <th></th>\n",
       "      <th>Index Value</th>\n",
       "    </tr>\n",
       "    <tr>\n",
       "      <th>Trade Date</th>\n",
       "      <th></th>\n",
       "    </tr>\n",
       "  </thead>\n",
       "  <tbody>\n",
       "    <tr>\n",
       "      <th>2018-03-01</th>\n",
       "      <td>7180.56</td>\n",
       "    </tr>\n",
       "    <tr>\n",
       "      <th>2018-03-02</th>\n",
       "      <td>7257.87</td>\n",
       "    </tr>\n",
       "    <tr>\n",
       "      <th>2018-03-05</th>\n",
       "      <td>7330.70</td>\n",
       "    </tr>\n",
       "    <tr>\n",
       "      <th>2018-03-06</th>\n",
       "      <td>7372.01</td>\n",
       "    </tr>\n",
       "    <tr>\n",
       "      <th>2018-03-07</th>\n",
       "      <td>7396.65</td>\n",
       "    </tr>\n",
       "  </tbody>\n",
       "</table>\n",
       "</div>"
      ],
      "text/plain": [
       "            Index Value\n",
       "Trade Date             \n",
       "2018-03-01      7180.56\n",
       "2018-03-02      7257.87\n",
       "2018-03-05      7330.70\n",
       "2018-03-06      7372.01\n",
       "2018-03-07      7396.65"
      ]
     },
     "execution_count": 165,
     "metadata": {},
     "output_type": "execute_result"
    }
   ],
   "source": [
    "#Lets drop everything but the index value as that's all we will care about\n",
    "nasdaqData1MonthAgo = nasdaqData1MonthAgo[['Index Value']]\n",
    "nasdaqData1MonthAgo.head()"
   ]
  },
  {
   "cell_type": "code",
   "execution_count": 166,
   "metadata": {},
   "outputs": [
    {
     "name": "stdout",
     "output_type": "stream",
     "text": [
      "-0.016310705571710396\n"
     ]
    }
   ],
   "source": [
    "firstDay = 0\n",
    "initPrice = nasdaqData1MonthAgo.iloc[firstDay]['Index Value']\n",
    "\n",
    "lastDay = nasdaqData1MonthAgo.shape[0] - 1\n",
    "finalPrice = nasdaqData1MonthAgo.iloc[lastDay]['Index Value']\n",
    "\n",
    "#Market growth\n",
    "oneMonthAgoROI = (finalPrice - initPrice) / initPrice\n",
    "print(oneMonthAgoROI)"
   ]
  },
  {
   "cell_type": "code",
   "execution_count": 179,
   "metadata": {},
   "outputs": [
    {
     "name": "stdout",
     "output_type": "stream",
     "text": [
      "-0.04695958162202421\n"
     ]
    }
   ],
   "source": [
    "#Let's do the same thing for the 2 earlier months\n",
    "nasdaqData2MonthsAgo = quandl.get(\"NASDAQOMX/COMP-NASDAQ\", trim_start=end2MonthsAgo, trim_end=end1MonthAgo)\n",
    "nasdaqData2MonthsAgo = nasdaqData2MonthsAgo[['Index Value']]\n",
    "\n",
    "firstDay = 0\n",
    "initPrice = nasdaqData2MonthsAgo.iloc[firstDay]['Index Value']\n",
    "\n",
    "lastDay = nasdaqData2MonthsAgo.shape[0] - 1\n",
    "finalPrice = nasdaqData2MonthsAgo.iloc[lastDay]['Index Value']\n",
    "\n",
    "#Market growth\n",
    "twoMonthsAgoROI = (finalPrice - initPrice) / initPrice\n",
    "print(twoMonthsAgoROI)"
   ]
  },
  {
   "cell_type": "code",
   "execution_count": 169,
   "metadata": {},
   "outputs": [
    {
     "name": "stdout",
     "output_type": "stream",
     "text": [
      "0.057740227490045516\n"
     ]
    }
   ],
   "source": [
    "#And for 3rd month ago\n",
    "nasdaqData3MonthsAgo = quandl.get(\"NASDAQOMX/COMP-NASDAQ\", trim_start=start3MonthsAgo, trim_end=end2MonthsAgo)\n",
    "nasdaqData23MonthsAgo = nasdaqData3MonthsAgo[['Index Value']]\n",
    "\n",
    "firstDay = 0\n",
    "initPrice = nasdaqData3MonthsAgo.iloc[firstDay]['Index Value']\n",
    "\n",
    "lastDay = nasdaqData3MonthsAgo.shape[0] - 1\n",
    "finalPrice = nasdaqData3MonthsAgo.iloc[lastDay]['Index Value']\n",
    "\n",
    "#Market growth\n",
    "threeMonthsAgoROI = (finalPrice - initPrice) / initPrice\n",
    "print(threeMonthsAgoROI)"
   ]
  },
  {
   "cell_type": "code",
   "execution_count": 170,
   "metadata": {},
   "outputs": [],
   "source": [
    "#Let's see how to professionals' ratings for specific stocks compared to the market returns\n",
    "\n",
    "#The NASDAQ growth looks like this:\n",
    "#01/01/18 - 01/31/18 : 5.7740227490045516 %\n",
    "#02/01/18 - 02/28/18 : -4.695958162202421 %\n",
    "#03/01/18 - 03/29/18 : -1.6310705571710396 %\n",
    "\n",
    "#We don't need the current rating, so we'll drop it from each of the ratings data frames\n",
    "#Then, we can calculate the avg rating for one month ago for each stock\n",
    "\n",
    "avgRating1MonthAgo = []\n",
    "avgRating2MonthsAgo = []\n",
    "avgRating3MonthsAgo = []\n",
    "\n",
    "    #for ratingFile in ratingsFiles:\n",
    "\n",
    "        #remove current rating\n",
    "        #del ratingFile[0]\n",
    "\n",
    "for ratingFile in ratingsFiles:\n",
    "    avgRating = 0\n",
    "    xMonthAgo = 1\n",
    "    totalReviewers = 0\n",
    "\n",
    "    #Aggreate the ratings for the month\n",
    "    #ratingFile.iloc[5 - rating][month]\n",
    "    for index in range(len(ratingFile)):\n",
    "        rating = 5 - index\n",
    "        reviewers = ratingFile.iloc[index][xMonthAgo]\n",
    "        totalReviewers += reviewers\n",
    "        avgRating += rating * reviewers\n",
    "\n",
    "        #set reviewers to 0 for next iteration\n",
    "        reviewers = 0\n",
    "    avgRating /= float(totalReviewers)\n",
    "    avgRating1MonthAgo.append(avgRating)\n",
    "\n",
    "#same thing for the 2nd month ago\n",
    "for ratingFile in ratingsFiles:\n",
    "    avgRating = 0\n",
    "    xMonthAgo = 2\n",
    "    totalReviewers = 0\n",
    "\n",
    "    #Aggreate the ratings for the month\n",
    "    #ratingFile.iloc[5 - rating][month]\n",
    "    for index in range(len(ratingFile)):\n",
    "        rating = 5 - index\n",
    "        reviewers = ratingFile.iloc[index][xMonthAgo]\n",
    "        totalReviewers += reviewers\n",
    "        avgRating += rating * reviewers\n",
    "\n",
    "        #set reviewers to 0 for next iteration\n",
    "        reviewers = 0\n",
    "    avgRating /= float(totalReviewers)\n",
    "    avgRating2MonthsAgo.append(avgRating)\n",
    "\n",
    "#And again for the 3rd month ago\n",
    "for ratingFile in ratingsFiles:\n",
    "    avgRating = 0\n",
    "    xMonthAgo = 3\n",
    "    totalReviewers = 0\n",
    "\n",
    "    #Aggreate the ratings for the month\n",
    "    #ratingFile.iloc[5 - rating][month]\n",
    "    for index in range(len(ratingFile)):\n",
    "        rating = 5 - index\n",
    "        reviewers = ratingFile.iloc[index][xMonthAgo]\n",
    "        totalReviewers += reviewers\n",
    "        avgRating += rating * reviewers\n",
    "\n",
    "        #set reviewers to 0 for next iteration\n",
    "        reviewers = 0\n",
    "    avgRating /= float(totalReviewers)\n",
    "    avgRating3MonthsAgo.append(avgRating)\n",
    "    "
   ]
  },
  {
   "cell_type": "code",
   "execution_count": 175,
   "metadata": {},
   "outputs": [],
   "source": [
    "#Now, let's create a data frame with 2 dimensions: the average ranking at the beginning of the month for each specific stock\n",
    "#and the sign of the difference of the NASDAQ growth and the stock growth\n",
    "\n",
    "stockROIsMarch = []\n",
    "#This is for the month of March\n",
    "for index in range(len(dataFiles)):\n",
    "    \n",
    "    stockROI = 0\n",
    "    \n",
    "    firstRowIndex = 103\n",
    "    openIndex = 1\n",
    "    March1Open = dataFiles[index].iloc[firstRowIndex][openIndex]\n",
    "\n",
    "    lastRowIndex = dataFiles[index].shape[0] - 1\n",
    "    closeIndex = 4\n",
    "    March29Close = dataFiles[index].iloc[lastRowIndex][closeIndex]\n",
    "    \n",
    "    stockROI = (March29Close - March1Open) / March1Open\n",
    "    stockROIsMarch.append(stockROI)\n",
    "    \n",
    "stockROIsFebruary = []\n",
    "#now for feb\n",
    "for index in range(len(dataFiles)):\n",
    "    \n",
    "    stockROI = 0\n",
    "    \n",
    "    firstRowIndex = 84\n",
    "    openIndex = 1\n",
    "    Feb1Open = dataFiles[index].iloc[firstRowIndex][openIndex]\n",
    "\n",
    "    lastRowIndex = 102\n",
    "    closeIndex = 4\n",
    "    Feb28Close = dataFiles[index].iloc[lastRowIndex][closeIndex]\n",
    "    \n",
    "    stockROI = (Feb28Close - Feb1Open) / Feb1Open\n",
    "    stockROIsFebruary.append(stockROI)\n",
    "    \n",
    "stockROIsJanuary = []\n",
    "#Now for January -- ** Note, market opens on the 2nd of January, not the 1st\n",
    "for index in range(len(dataFiles)):\n",
    "    \n",
    "    stockROI = 0\n",
    "    \n",
    "    firstRowIndex = 63\n",
    "    openIndex = 1\n",
    "    Jan2Open = dataFiles[index].iloc[firstRowIndex][openIndex]\n",
    "\n",
    "    lastRowIndex = 83\n",
    "    closeIndex = 4\n",
    "    Jan31Close = dataFiles[index].iloc[lastRowIndex][closeIndex]\n",
    "    \n",
    "    stockROI = (Jan31Close - Jan2Open) / Jan2Open\n",
    "    stockROIsJanuary.append(stockROI)\n"
   ]
  },
  {
   "cell_type": "code",
   "execution_count": 195,
   "metadata": {},
   "outputs": [],
   "source": [
    "#Using the stockROIs for each month, let's create 3 data frames--one for each month--that includes:\n",
    "#the avg rating with a label that's positive if the stock beat the market and negative otherwise\n",
    "\n",
    "#Subtract NASDAQ returns from stocks\n",
    "didStockBeatMarket3MonthsAgo = list(stockROIsJanuary)\n",
    "didStockBeatMarket3MonthsAgo[:] = [stockROI - threeMonthsAgoROI for stockROI in didStockBeatMarket3MonthsAgo]\n",
    "\n",
    "didStockBeatMarket2MonthsAgo = list(stockROIsFebruary)\n",
    "didStockBeatMarket2MonthsAgo[:] = [stockROI - twoMonthsAgoROI for stockROI in didStockBeatMarket2MonthsAgo]\n",
    "\n",
    "didStockBeatMarket1MonthAgo = list(stockROIsMarch)\n",
    "didStockBeatMarket1MonthAgo[:] = [stockROI - oneMonthAgoROI for stockROI in didStockBeatMarket1MonthAgo]\n"
   ]
  },
  {
   "cell_type": "code",
   "execution_count": 220,
   "metadata": {},
   "outputs": [],
   "source": [
    "#Turn ratings' arrays into data frame\n",
    "ratingsMarch = pd.DataFrame(np.array(avgRating1MonthAgo).reshape(30,1))\n",
    "ratingsFebruary = pd.DataFrame(np.array(avgRating2MonthsAgo).reshape(30,1))\n",
    "ratingsJanuary = pd.DataFrame(np.array(avgRating3MonthsAgo).reshape(30,1))\n",
    "\n",
    "resultsMarch = pd.DataFrame(np.array(didStockBeatMarket1MonthAgo).reshape(30,1))\n",
    "resultsFebruary = pd.DataFrame(np.array(didStockBeatMarket2MonthsAgo).reshape(30,1))\n",
    "resultsJanuary = pd.DataFrame(np.array(didStockBeatMarket3MonthsAgo).reshape(30,1))"
   ]
  },
  {
   "cell_type": "code",
   "execution_count": 221,
   "metadata": {},
   "outputs": [
    {
     "data": {
      "text/plain": [
       "(30, 1)"
      ]
     },
     "execution_count": 221,
     "metadata": {},
     "output_type": "execute_result"
    }
   ],
   "source": [
    "ratingsMarch.shape"
   ]
  },
  {
   "cell_type": "code",
   "execution_count": 222,
   "metadata": {},
   "outputs": [
    {
     "data": {
      "text/plain": [
       "(30, 1)"
      ]
     },
     "execution_count": 222,
     "metadata": {},
     "output_type": "execute_result"
    }
   ],
   "source": [
    "resultsMarch.shape"
   ]
  },
  {
   "cell_type": "code",
   "execution_count": 223,
   "metadata": {},
   "outputs": [
    {
     "data": {
      "text/html": [
       "<div>\n",
       "<style scoped>\n",
       "    .dataframe tbody tr th:only-of-type {\n",
       "        vertical-align: middle;\n",
       "    }\n",
       "\n",
       "    .dataframe tbody tr th {\n",
       "        vertical-align: top;\n",
       "    }\n",
       "\n",
       "    .dataframe thead th {\n",
       "        text-align: right;\n",
       "    }\n",
       "</style>\n",
       "<table border=\"1\" class=\"dataframe\">\n",
       "  <thead>\n",
       "    <tr style=\"text-align: right;\">\n",
       "      <th></th>\n",
       "      <th>0</th>\n",
       "    </tr>\n",
       "  </thead>\n",
       "  <tbody>\n",
       "    <tr>\n",
       "      <th>0</th>\n",
       "      <td>-0.043956</td>\n",
       "    </tr>\n",
       "    <tr>\n",
       "      <th>1</th>\n",
       "      <td>-0.030101</td>\n",
       "    </tr>\n",
       "    <tr>\n",
       "      <th>2</th>\n",
       "      <td>-0.078768</td>\n",
       "    </tr>\n",
       "    <tr>\n",
       "      <th>3</th>\n",
       "      <td>-0.024621</td>\n",
       "    </tr>\n",
       "    <tr>\n",
       "      <th>4</th>\n",
       "      <td>-0.023752</td>\n",
       "    </tr>\n",
       "  </tbody>\n",
       "</table>\n",
       "</div>"
      ],
      "text/plain": [
       "          0\n",
       "0 -0.043956\n",
       "1 -0.030101\n",
       "2 -0.078768\n",
       "3 -0.024621\n",
       "4 -0.023752"
      ]
     },
     "execution_count": 223,
     "metadata": {},
     "output_type": "execute_result"
    }
   ],
   "source": [
    "resultsMarch.head()"
   ]
  },
  {
   "cell_type": "code",
   "execution_count": 224,
   "metadata": {},
   "outputs": [
    {
     "data": {
      "text/html": [
       "<div>\n",
       "<style scoped>\n",
       "    .dataframe tbody tr th:only-of-type {\n",
       "        vertical-align: middle;\n",
       "    }\n",
       "\n",
       "    .dataframe tbody tr th {\n",
       "        vertical-align: top;\n",
       "    }\n",
       "\n",
       "    .dataframe thead th {\n",
       "        text-align: right;\n",
       "    }\n",
       "</style>\n",
       "<table border=\"1\" class=\"dataframe\">\n",
       "  <thead>\n",
       "    <tr style=\"text-align: right;\">\n",
       "      <th></th>\n",
       "      <th>0</th>\n",
       "    </tr>\n",
       "  </thead>\n",
       "  <tbody>\n",
       "    <tr>\n",
       "      <th>0</th>\n",
       "      <td>-1.0</td>\n",
       "    </tr>\n",
       "    <tr>\n",
       "      <th>1</th>\n",
       "      <td>-1.0</td>\n",
       "    </tr>\n",
       "    <tr>\n",
       "      <th>2</th>\n",
       "      <td>-1.0</td>\n",
       "    </tr>\n",
       "    <tr>\n",
       "      <th>3</th>\n",
       "      <td>-1.0</td>\n",
       "    </tr>\n",
       "    <tr>\n",
       "      <th>4</th>\n",
       "      <td>-1.0</td>\n",
       "    </tr>\n",
       "  </tbody>\n",
       "</table>\n",
       "</div>"
      ],
      "text/plain": [
       "     0\n",
       "0 -1.0\n",
       "1 -1.0\n",
       "2 -1.0\n",
       "3 -1.0\n",
       "4 -1.0"
      ]
     },
     "execution_count": 224,
     "metadata": {},
     "output_type": "execute_result"
    }
   ],
   "source": [
    "#Apply a sign function to the labels\n",
    "resultsMarch[resultsMarch > 0] = 1\n",
    "resultsMarch[resultsMarch < 0] = -1\n",
    "resultsMarch.head()"
   ]
  },
  {
   "cell_type": "code",
   "execution_count": 225,
   "metadata": {},
   "outputs": [],
   "source": [
    "#And again\n",
    "resultsFebruary[resultsFebruary > 0] = 1\n",
    "resultsFebruary[resultsFebruary < 0] = -1\n",
    "\n",
    "resultsJanuary[resultsJanuary > 0] = 1\n",
    "resultsJanuary[resultsJanuary < 0] = -1\n"
   ]
  },
  {
   "cell_type": "code",
   "execution_count": 231,
   "metadata": {},
   "outputs": [],
   "source": [
    "#create the data frame for each month -- include rating and the label indicating whether the stock outperformed market\n",
    "dfMarch=pd.concat([ratingsMarch, resultsMarch], axis = 1)"
   ]
  },
  {
   "cell_type": "code",
   "execution_count": 232,
   "metadata": {},
   "outputs": [
    {
     "data": {
      "text/plain": [
       "(30, 2)"
      ]
     },
     "execution_count": 232,
     "metadata": {},
     "output_type": "execute_result"
    }
   ],
   "source": [
    "dfMarch.shape"
   ]
  },
  {
   "cell_type": "code",
   "execution_count": 236,
   "metadata": {},
   "outputs": [
    {
     "data": {
      "text/html": [
       "<div>\n",
       "<style scoped>\n",
       "    .dataframe tbody tr th:only-of-type {\n",
       "        vertical-align: middle;\n",
       "    }\n",
       "\n",
       "    .dataframe tbody tr th {\n",
       "        vertical-align: top;\n",
       "    }\n",
       "\n",
       "    .dataframe thead th {\n",
       "        text-align: right;\n",
       "    }\n",
       "</style>\n",
       "<table border=\"1\" class=\"dataframe\">\n",
       "  <thead>\n",
       "    <tr style=\"text-align: right;\">\n",
       "      <th></th>\n",
       "      <th>0</th>\n",
       "      <th>0</th>\n",
       "    </tr>\n",
       "  </thead>\n",
       "  <tbody>\n",
       "    <tr>\n",
       "      <th>0</th>\n",
       "      <td>4.090909</td>\n",
       "      <td>-1.0</td>\n",
       "    </tr>\n",
       "    <tr>\n",
       "      <th>1</th>\n",
       "      <td>3.222222</td>\n",
       "      <td>-1.0</td>\n",
       "    </tr>\n",
       "    <tr>\n",
       "      <th>2</th>\n",
       "      <td>3.900000</td>\n",
       "      <td>-1.0</td>\n",
       "    </tr>\n",
       "    <tr>\n",
       "      <th>3</th>\n",
       "      <td>4.125000</td>\n",
       "      <td>-1.0</td>\n",
       "    </tr>\n",
       "    <tr>\n",
       "      <th>4</th>\n",
       "      <td>4.625000</td>\n",
       "      <td>-1.0</td>\n",
       "    </tr>\n",
       "    <tr>\n",
       "      <th>5</th>\n",
       "      <td>4.000000</td>\n",
       "      <td>1.0</td>\n",
       "    </tr>\n",
       "    <tr>\n",
       "      <th>6</th>\n",
       "      <td>4.125000</td>\n",
       "      <td>-1.0</td>\n",
       "    </tr>\n",
       "    <tr>\n",
       "      <th>7</th>\n",
       "      <td>4.625000</td>\n",
       "      <td>-1.0</td>\n",
       "    </tr>\n",
       "    <tr>\n",
       "      <th>8</th>\n",
       "      <td>2.833333</td>\n",
       "      <td>-1.0</td>\n",
       "    </tr>\n",
       "    <tr>\n",
       "      <th>9</th>\n",
       "      <td>3.444444</td>\n",
       "      <td>-1.0</td>\n",
       "    </tr>\n",
       "  </tbody>\n",
       "</table>\n",
       "</div>"
      ],
      "text/plain": [
       "          0    0\n",
       "0  4.090909 -1.0\n",
       "1  3.222222 -1.0\n",
       "2  3.900000 -1.0\n",
       "3  4.125000 -1.0\n",
       "4  4.625000 -1.0\n",
       "5  4.000000  1.0\n",
       "6  4.125000 -1.0\n",
       "7  4.625000 -1.0\n",
       "8  2.833333 -1.0\n",
       "9  3.444444 -1.0"
      ]
     },
     "execution_count": 236,
     "metadata": {},
     "output_type": "execute_result"
    }
   ],
   "source": [
    "dfMarch.head(10)"
   ]
  },
  {
   "cell_type": "code",
   "execution_count": 234,
   "metadata": {},
   "outputs": [],
   "source": [
    "#Create the full data frames for the other months too\n",
    "dfFeb=pd.concat([ratingsFebruary, resultsFebruary], axis = 1)\n",
    "dfJan=pd.concat([ratingsJanuary, resultsJanuary], axis = 1)"
   ]
  },
  {
   "cell_type": "code",
   "execution_count": null,
   "metadata": {},
   "outputs": [],
   "source": []
  }
 ],
 "metadata": {
  "kernelspec": {
   "display_name": "Python 2",
   "language": "python",
   "name": "python2"
  },
  "language_info": {
   "codemirror_mode": {
    "name": "ipython",
    "version": 2
   },
   "file_extension": ".py",
   "mimetype": "text/x-python",
   "name": "python",
   "nbconvert_exporter": "python",
   "pygments_lexer": "ipython2",
   "version": "2.7.14"
  }
 },
 "nbformat": 4,
 "nbformat_minor": 2
}
